{
 "cells": [
  {
   "cell_type": "markdown",
   "id": "f6360275",
   "metadata": {},
   "source": [
    "# Data Modelling"
   ]
  },
  {
   "cell_type": "code",
   "execution_count": 1,
   "id": "f9809251",
   "metadata": {},
   "outputs": [],
   "source": [
    "from os import path\n",
    "from PIL import Image\n",
    "import numpy as np\n",
    "import matplotlib.pyplot as plt\n",
    "import os\n",
    "\n",
    "import pandas as pd\n",
    "import numpy as np\n",
    "import seaborn as sns\n",
    "import matplotlib.pyplot as plt\n",
    "\n",
    "from sklearn.feature_extraction.text import CountVectorizer\n",
    "from sklearn.pipeline import Pipeline\n",
    "from sklearn.naive_bayes import MultinomialNB\n",
    "from sklearn.model_selection import train_test_split, GridSearchCV\n",
    "from sklearn.metrics import confusion_matrix, plot_confusion_matrix\n",
    "\n",
    "import warnings\n",
    "warnings.simplefilter(action='ignore')\n",
    "\n",
    "%matplotlib inline"
   ]
  },
  {
   "cell_type": "code",
   "execution_count": 2,
   "id": "7abc4c59",
   "metadata": {},
   "outputs": [],
   "source": [
    "#load the datasets\n",
    "df=pd.read_csv('data/df_cleaned.csv')"
   ]
  },
  {
   "cell_type": "code",
   "execution_count": 3,
   "id": "3da07734",
   "metadata": {},
   "outputs": [
    {
     "data": {
      "text/html": [
       "<div>\n",
       "<style scoped>\n",
       "    .dataframe tbody tr th:only-of-type {\n",
       "        vertical-align: middle;\n",
       "    }\n",
       "\n",
       "    .dataframe tbody tr th {\n",
       "        vertical-align: top;\n",
       "    }\n",
       "\n",
       "    .dataframe thead th {\n",
       "        text-align: right;\n",
       "    }\n",
       "</style>\n",
       "<table border=\"1\" class=\"dataframe\">\n",
       "  <thead>\n",
       "    <tr style=\"text-align: right;\">\n",
       "      <th></th>\n",
       "      <th>subreddit</th>\n",
       "      <th>is_self</th>\n",
       "      <th>is_video</th>\n",
       "      <th>selftext</th>\n",
       "      <th>title</th>\n",
       "      <th>subreddit_id</th>\n",
       "      <th>created_utc</th>\n",
       "      <th>author</th>\n",
       "      <th>upvote_ratio</th>\n",
       "      <th>num_comments</th>\n",
       "      <th>...</th>\n",
       "      <th>title_lem</th>\n",
       "      <th>selftext_lem_stop</th>\n",
       "      <th>title_lem_stop</th>\n",
       "      <th>title_text_lem_stop</th>\n",
       "      <th>title_len</th>\n",
       "      <th>selftext_len</th>\n",
       "      <th>scores</th>\n",
       "      <th>compound</th>\n",
       "      <th>compound_score</th>\n",
       "      <th>is_yoga</th>\n",
       "    </tr>\n",
       "  </thead>\n",
       "  <tbody>\n",
       "    <tr>\n",
       "      <th>0</th>\n",
       "      <td>Meditation</td>\n",
       "      <td>True</td>\n",
       "      <td>False</td>\n",
       "      <td>Now that I have burned all the past karma that...</td>\n",
       "      <td>Massive announcement concerning the future of ...</td>\n",
       "      <td>t5_2qnc9</td>\n",
       "      <td>1640907530</td>\n",
       "      <td>Extension_Mouse686</td>\n",
       "      <td>1.0</td>\n",
       "      <td>0</td>\n",
       "      <td>...</td>\n",
       "      <td>Massive announcement concerning the future of ...</td>\n",
       "      <td>Now I burned past karma weighing approximately...</td>\n",
       "      <td>Massive announcement concerning future human s...</td>\n",
       "      <td>Massive announcement concerning future human s...</td>\n",
       "      <td>18</td>\n",
       "      <td>345</td>\n",
       "      <td>{'neg': 0.106, 'neu': 0.634, 'pos': 0.259, 'co...</td>\n",
       "      <td>0.9948</td>\n",
       "      <td>positive</td>\n",
       "      <td>0</td>\n",
       "    </tr>\n",
       "    <tr>\n",
       "      <th>1</th>\n",
       "      <td>Meditation</td>\n",
       "      <td>True</td>\n",
       "      <td>False</td>\n",
       "      <td>I have been meditating for 220 consecutive day...</td>\n",
       "      <td>Meditation Technique to deal with the first mi...</td>\n",
       "      <td>t5_2qnc9</td>\n",
       "      <td>1640903751</td>\n",
       "      <td>hartmanners</td>\n",
       "      <td>1.0</td>\n",
       "      <td>0</td>\n",
       "      <td>...</td>\n",
       "      <td>Meditation Technique to deal with the first mi...</td>\n",
       "      <td>I meditating 220 consecutive day today I usual...</td>\n",
       "      <td>Meditation Technique deal minute noisy mind</td>\n",
       "      <td>Meditation Technique deal minute noisy mind I ...</td>\n",
       "      <td>6</td>\n",
       "      <td>138</td>\n",
       "      <td>{'neg': 0.101, 'neu': 0.646, 'pos': 0.253, 'co...</td>\n",
       "      <td>0.9766</td>\n",
       "      <td>positive</td>\n",
       "      <td>0</td>\n",
       "    </tr>\n",
       "    <tr>\n",
       "      <th>2</th>\n",
       "      <td>Meditation</td>\n",
       "      <td>True</td>\n",
       "      <td>False</td>\n",
       "      <td>I’ve tried to make meditation a part of my dai...</td>\n",
       "      <td>What should I focus on if I’m meditating witho...</td>\n",
       "      <td>t5_2qnc9</td>\n",
       "      <td>1640898514</td>\n",
       "      <td>v_philosoph</td>\n",
       "      <td>1.0</td>\n",
       "      <td>0</td>\n",
       "      <td>...</td>\n",
       "      <td>What should I focus on if I m meditating witho...</td>\n",
       "      <td>I tried make daily habit stick I notice I use ...</td>\n",
       "      <td>What I focus I meditating video guide</td>\n",
       "      <td>What I focus I meditating video guide I tried ...</td>\n",
       "      <td>7</td>\n",
       "      <td>48</td>\n",
       "      <td>{'neg': 0.0, 'neu': 0.878, 'pos': 0.122, 'comp...</td>\n",
       "      <td>0.6901</td>\n",
       "      <td>positive</td>\n",
       "      <td>0</td>\n",
       "    </tr>\n",
       "    <tr>\n",
       "      <th>3</th>\n",
       "      <td>Meditation</td>\n",
       "      <td>True</td>\n",
       "      <td>False</td>\n",
       "      <td>I have periods during the day where my mind is...</td>\n",
       "      <td>Racing mind, adhd?</td>\n",
       "      <td>t5_2qnc9</td>\n",
       "      <td>1640896254</td>\n",
       "      <td>chris152772272727829</td>\n",
       "      <td>1.0</td>\n",
       "      <td>0</td>\n",
       "      <td>...</td>\n",
       "      <td>Racing mind adhd</td>\n",
       "      <td>I period day mind racing thought Is adhd Think...</td>\n",
       "      <td>Racing mind adhd</td>\n",
       "      <td>Racing mind adhd I period day mind racing thou...</td>\n",
       "      <td>3</td>\n",
       "      <td>18</td>\n",
       "      <td>{'neg': 0.115, 'neu': 0.769, 'pos': 0.115, 'co...</td>\n",
       "      <td>0.0000</td>\n",
       "      <td>neutral</td>\n",
       "      <td>0</td>\n",
       "    </tr>\n",
       "    <tr>\n",
       "      <th>4</th>\n",
       "      <td>Meditation</td>\n",
       "      <td>True</td>\n",
       "      <td>False</td>\n",
       "      <td>I think I’ve been meditating correctly for a w...</td>\n",
       "      <td>Is there such a thing as “spiritual meditation...</td>\n",
       "      <td>t5_2qnc9</td>\n",
       "      <td>1640895782</td>\n",
       "      <td>OkStep3679</td>\n",
       "      <td>1.0</td>\n",
       "      <td>0</td>\n",
       "      <td>...</td>\n",
       "      <td>Is there such a thing a spiritual meditation v...</td>\n",
       "      <td>I think I meditating correctly consistent I su...</td>\n",
       "      <td>Is thing spiritual v</td>\n",
       "      <td>Is thing spiritual v I think I meditating corr...</td>\n",
       "      <td>4</td>\n",
       "      <td>39</td>\n",
       "      <td>{'neg': 0.076, 'neu': 0.764, 'pos': 0.16, 'com...</td>\n",
       "      <td>0.3400</td>\n",
       "      <td>positive</td>\n",
       "      <td>0</td>\n",
       "    </tr>\n",
       "  </tbody>\n",
       "</table>\n",
       "<p>5 rows × 23 columns</p>\n",
       "</div>"
      ],
      "text/plain": [
       "    subreddit  is_self  is_video  \\\n",
       "0  Meditation     True     False   \n",
       "1  Meditation     True     False   \n",
       "2  Meditation     True     False   \n",
       "3  Meditation     True     False   \n",
       "4  Meditation     True     False   \n",
       "\n",
       "                                            selftext  \\\n",
       "0  Now that I have burned all the past karma that...   \n",
       "1  I have been meditating for 220 consecutive day...   \n",
       "2  I’ve tried to make meditation a part of my dai...   \n",
       "3  I have periods during the day where my mind is...   \n",
       "4  I think I’ve been meditating correctly for a w...   \n",
       "\n",
       "                                               title subreddit_id  \\\n",
       "0  Massive announcement concerning the future of ...     t5_2qnc9   \n",
       "1  Meditation Technique to deal with the first mi...     t5_2qnc9   \n",
       "2  What should I focus on if I’m meditating witho...     t5_2qnc9   \n",
       "3                                 Racing mind, adhd?     t5_2qnc9   \n",
       "4  Is there such a thing as “spiritual meditation...     t5_2qnc9   \n",
       "\n",
       "   created_utc                author  upvote_ratio  num_comments  ...  \\\n",
       "0   1640907530    Extension_Mouse686           1.0             0  ...   \n",
       "1   1640903751           hartmanners           1.0             0  ...   \n",
       "2   1640898514           v_philosoph           1.0             0  ...   \n",
       "3   1640896254  chris152772272727829           1.0             0  ...   \n",
       "4   1640895782            OkStep3679           1.0             0  ...   \n",
       "\n",
       "                                           title_lem  \\\n",
       "0  Massive announcement concerning the future of ...   \n",
       "1  Meditation Technique to deal with the first mi...   \n",
       "2  What should I focus on if I m meditating witho...   \n",
       "3                                   Racing mind adhd   \n",
       "4  Is there such a thing a spiritual meditation v...   \n",
       "\n",
       "                                   selftext_lem_stop  \\\n",
       "0  Now I burned past karma weighing approximately...   \n",
       "1  I meditating 220 consecutive day today I usual...   \n",
       "2  I tried make daily habit stick I notice I use ...   \n",
       "3  I period day mind racing thought Is adhd Think...   \n",
       "4  I think I meditating correctly consistent I su...   \n",
       "\n",
       "                                      title_lem_stop  \\\n",
       "0  Massive announcement concerning future human s...   \n",
       "1        Meditation Technique deal minute noisy mind   \n",
       "2              What I focus I meditating video guide   \n",
       "3                                   Racing mind adhd   \n",
       "4                               Is thing spiritual v   \n",
       "\n",
       "                                 title_text_lem_stop title_len selftext_len  \\\n",
       "0  Massive announcement concerning future human s...        18          345   \n",
       "1  Meditation Technique deal minute noisy mind I ...         6          138   \n",
       "2  What I focus I meditating video guide I tried ...         7           48   \n",
       "3  Racing mind adhd I period day mind racing thou...         3           18   \n",
       "4  Is thing spiritual v I think I meditating corr...         4           39   \n",
       "\n",
       "                                              scores  compound  \\\n",
       "0  {'neg': 0.106, 'neu': 0.634, 'pos': 0.259, 'co...    0.9948   \n",
       "1  {'neg': 0.101, 'neu': 0.646, 'pos': 0.253, 'co...    0.9766   \n",
       "2  {'neg': 0.0, 'neu': 0.878, 'pos': 0.122, 'comp...    0.6901   \n",
       "3  {'neg': 0.115, 'neu': 0.769, 'pos': 0.115, 'co...    0.0000   \n",
       "4  {'neg': 0.076, 'neu': 0.764, 'pos': 0.16, 'com...    0.3400   \n",
       "\n",
       "   compound_score is_yoga  \n",
       "0        positive       0  \n",
       "1        positive       0  \n",
       "2        positive       0  \n",
       "3         neutral       0  \n",
       "4        positive       0  \n",
       "\n",
       "[5 rows x 23 columns]"
      ]
     },
     "execution_count": 3,
     "metadata": {},
     "output_type": "execute_result"
    }
   ],
   "source": [
    "df.head()"
   ]
  },
  {
   "cell_type": "markdown",
   "id": "95e0eb33",
   "metadata": {},
   "source": [
    "## Table of Content"
   ]
  },
  {
   "cell_type": "markdown",
   "id": "eafeb98d",
   "metadata": {},
   "source": [
    "After cleaning our data in the previous notebook, we will start selecting and tuning a model to better predict where each post belongs to either r/yoga or r/meditation. Take in mind that this involves a binary classification problem. \n",
    "\n",
    "The steps we will take to indentify the best model:\n",
    "1. Run Train-Test-Split\n",
    "2. Transform data using a vectorizer\n",
    "3. Fit model to training data\n",
    "4. Generate predictions using test data\n",
    "5. Evaluate model based on various evaluation metrics (accuracy, precision, recall, f1-score, ROC-AUC).\n",
    "6. Select the best model and tune hyper-parameters\n",
    "\n",
    "In this case we will utilize CountVectorizer(), TfidfVectorizer() and HashingVectorizer(). \n",
    "* Tfidf vectorizer function similar to CountVectorizer, except that it looks at the frequency of words in our data. This means that it downweights words that appear in many posts, while upweighting the rarer words.\n",
    "* Hashing vectorizer is a vectorizer which uses the hashing trick to find the token string name to feature integer index mapping. Conversion of text documents into matrix is done by this vectorizer where it turns the collection of documents into a sparse matrix which are holding the token occurence counts. Advantages for hashing vectorizer include its low memory scalable and can be used in streaming or parallel pipeline.\n",
    "\n",
    "We will test a range of classification techniques including Logistic Regression, Random Forest, Boosting, Multinomial Naive Bayes classification and Support Vector Machine (SVM) classification.\n",
    "\n",
    "Accuracy and F-score will be our main metrics here, given that we're not too particularly concerned about minimizing either false negatives and false positives -- ideally we'd like to minimize both as far as possible."
   ]
  },
  {
   "cell_type": "markdown",
   "id": "ed7e767a",
   "metadata": {},
   "source": [
    "### Baseline model"
   ]
  },
  {
   "cell_type": "markdown",
   "id": "bec82a8d",
   "metadata": {},
   "source": [
    "To compare our models with a baseline model, we will first create the baseline model using the normalized value of our response (y) or in other words the percentage of y within our target. This will be the representative of the simplest model whereby assigning a post randomly will yield ~60% chance of correct classification."
   ]
  },
  {
   "cell_type": "code",
   "execution_count": 4,
   "id": "5ab6ccbb",
   "metadata": {},
   "outputs": [
    {
     "data": {
      "text/plain": [
       "Meditation    994\n",
       "yoga          659\n",
       "Name: subreddit, dtype: int64"
      ]
     },
     "execution_count": 4,
     "metadata": {},
     "output_type": "execute_result"
    }
   ],
   "source": [
    "df['subreddit'].value_counts()"
   ]
  },
  {
   "cell_type": "code",
   "execution_count": 5,
   "id": "9019237a",
   "metadata": {
    "scrolled": true
   },
   "outputs": [
    {
     "data": {
      "text/plain": [
       "Meditation    0.601331\n",
       "yoga          0.398669\n",
       "Name: subreddit, dtype: float64"
      ]
     },
     "execution_count": 5,
     "metadata": {},
     "output_type": "execute_result"
    }
   ],
   "source": [
    "df['subreddit'].value_counts(normalize=True)"
   ]
  },
  {
   "cell_type": "code",
   "execution_count": 6,
   "id": "b2132dd8",
   "metadata": {},
   "outputs": [],
   "source": [
    "#In this dataset there are more posts from meditation. Our dataset is very unbalanced."
   ]
  },
  {
   "cell_type": "code",
   "execution_count": 7,
   "id": "cd01b109",
   "metadata": {},
   "outputs": [],
   "source": [
    "X = df['title_text_lem_stop']\n",
    "y = df['is_yoga']"
   ]
  },
  {
   "cell_type": "markdown",
   "id": "eafd54d9",
   "metadata": {},
   "source": [
    "### Train Test Split"
   ]
  },
  {
   "cell_type": "code",
   "execution_count": 8,
   "id": "466fb039",
   "metadata": {},
   "outputs": [],
   "source": [
    "# Split our data into train and test data. We will stratify during the split to ensure that the train and test sets \n",
    "# contains the same percentage of samplesto avoid imbalanced classes.\n",
    "X_train,X_test,y_train,y_test = train_test_split(X,y,\n",
    "                                                 random_state=42,\n",
    "                                                 stratify=y) # account for slight class unbalanced "
   ]
  },
  {
   "cell_type": "markdown",
   "id": "ee38a6a3",
   "metadata": {},
   "source": [
    "### Model Preparation"
   ]
  },
  {
   "cell_type": "code",
   "execution_count": 9,
   "id": "3078fc7a",
   "metadata": {},
   "outputs": [],
   "source": [
    "# Vectorizer and Model imports:\n",
    "import pandas as pd\n",
    "\n",
    "from sklearn.feature_extraction.text import CountVectorizer, TfidfVectorizer, HashingVectorizer\n",
    "from sklearn.linear_model import LogisticRegression\n",
    "from sklearn.model_selection import train_test_split, cross_val_score, GridSearchCV\n",
    "from sklearn.ensemble import ExtraTreesClassifier, RandomForestClassifier,GradientBoostingClassifier, AdaBoostClassifier,VotingClassifier\n",
    "from sklearn.naive_bayes import MultinomialNB, BernoulliNB\n",
    "from sklearn.pipeline import Pipeline\n",
    "from sklearn.metrics import confusion_matrix, classification_report, plot_roc_curve, roc_auc_score,accuracy_score, precision_score, recall_score, f1_score\n",
    "from sklearn.tree import DecisionTreeClassifier\n",
    "from sklearn.svm import SVC\n",
    "\n",
    "import matplotlib.pyplot as plt\n",
    "%matplotlib inline"
   ]
  },
  {
   "cell_type": "code",
   "execution_count": 10,
   "id": "3634e354",
   "metadata": {},
   "outputs": [],
   "source": [
    "#custom stop word list identified\n",
    "custom_stopword=['yoga','meditation','ha','lol','wa']"
   ]
  },
  {
   "cell_type": "code",
   "execution_count": 11,
   "id": "c50b2eb1",
   "metadata": {},
   "outputs": [],
   "source": [
    "#wa is was but lemmatized but it brings no value to the study so i decided to remove it."
   ]
  },
  {
   "cell_type": "code",
   "execution_count": 12,
   "id": "1166d610",
   "metadata": {},
   "outputs": [],
   "source": [
    "cv = CountVectorizer(stop_words=custom_stopword)\n",
    "tvec = TfidfVectorizer(stop_words=custom_stopword)\n",
    "hv= HashingVectorizer(stop_words=custom_stopword)"
   ]
  },
  {
   "cell_type": "code",
   "execution_count": 13,
   "id": "24a2c098",
   "metadata": {},
   "outputs": [],
   "source": [
    "# Instantiate vectorizers\n",
    "vectorizers = {'cvec': cv,\n",
    "               'tvec': tvec,\n",
    "               'hv': hv}"
   ]
  },
  {
   "cell_type": "code",
   "execution_count": 14,
   "id": "3552bf3f",
   "metadata": {},
   "outputs": [],
   "source": [
    "# Instiantiate models\n",
    "models = {'lr': LogisticRegression(max_iter=1_000, random_state=42),\n",
    "          'rf': RandomForestClassifier(random_state=42),\n",
    "          'gb': GradientBoostingClassifier(random_state=42),\n",
    "          'et': ExtraTreesClassifier(random_state=42),\n",
    "          'ada': AdaBoostClassifier(random_state=42),\n",
    "          'nb': MultinomialNB(),\n",
    "          'svc': SVC(random_state=42)}"
   ]
  },
  {
   "cell_type": "code",
   "execution_count": 15,
   "id": "83e0e4f6",
   "metadata": {},
   "outputs": [],
   "source": [
    "# Function to run model -- input vectorizer and model\n",
    "def model_run(vec, mod, vec_params={}, mod_params={}, grid_search=False):\n",
    "    \n",
    "    results = {}\n",
    "    \n",
    "    pipe = Pipeline([\n",
    "            (vec, vectorizers[vec]),\n",
    "            (mod, models[mod])\n",
    "            ])\n",
    "    \n",
    "    if grid_search:\n",
    "        gs = GridSearchCV(pipe, param_grid = {**vec_params, **mod_params}, verbose=3, n_jobs=-1)\n",
    "        gs.fit(X_train, y_train)\n",
    "        pipe = gs\n",
    "        \n",
    "    else:\n",
    "        pipe.fit(X_train, y_train)\n",
    "    \n",
    "    # Retrieve metrics\n",
    "    results['model'] = mod\n",
    "    results['vectorizer'] = vec\n",
    "    results['train'] = pipe.score(X_train, y_train)\n",
    "    results['test'] = pipe.score(X_test, y_test)\n",
    "    predictions = pipe.predict(X_test)\n",
    "    results['roc'] = roc_auc_score(y_test, predictions)\n",
    "    results['precision'] = precision_score(y_test, predictions)\n",
    "    results['recall'] = recall_score(y_test, predictions)\n",
    "    results['f_score'] = f1_score(y_test, predictions)\n",
    "    \n",
    "    if grid_search:\n",
    "        tuning_list.append(results)\n",
    "        print('### BEST PARAMS ###')\n",
    "        display(pipe.best_params_)\n",
    "        \n",
    "    else:\n",
    "        eval_list.append(results)\n",
    "    \n",
    "    print('### METRICS ###')\n",
    "    display(results)\n",
    "    \n",
    "    tn, fp, fn, tp = confusion_matrix(y_test, predictions).ravel()\n",
    "    print(f\"True Negatives: {tn}\")\n",
    "    print(f\"False Positives: {fp}\")\n",
    "    print(f\"False Negatives: {fn}\")\n",
    "    print(f\"True Positives: {tp}\")\n",
    "    \n",
    "    return pipe"
   ]
  },
  {
   "cell_type": "markdown",
   "id": "fe87fa54",
   "metadata": {},
   "source": [
    "### Model testing"
   ]
  },
  {
   "cell_type": "code",
   "execution_count": 16,
   "id": "654d7c51",
   "metadata": {},
   "outputs": [],
   "source": [
    "# Create list to store model testing results\n",
    "eval_list = []"
   ]
  },
  {
   "cell_type": "markdown",
   "id": "9e451224",
   "metadata": {},
   "source": [
    "### Benchmark Model"
   ]
  },
  {
   "cell_type": "markdown",
   "id": "ae718d38",
   "metadata": {},
   "source": [
    "Since there are significant differences on the numerical features of the posts extracted from both subreddits (e.g. title/post length and number of comments), we should also test out a model with only these features. \n",
    "\n",
    "This model actually slightly better than the baseline with an R2 score of 64% on the test data."
   ]
  },
  {
   "cell_type": "code",
   "execution_count": 17,
   "id": "00b7811e",
   "metadata": {},
   "outputs": [
    {
     "data": {
      "text/html": [
       "<div>\n",
       "<style scoped>\n",
       "    .dataframe tbody tr th:only-of-type {\n",
       "        vertical-align: middle;\n",
       "    }\n",
       "\n",
       "    .dataframe tbody tr th {\n",
       "        vertical-align: top;\n",
       "    }\n",
       "\n",
       "    .dataframe thead th {\n",
       "        text-align: right;\n",
       "    }\n",
       "</style>\n",
       "<table border=\"1\" class=\"dataframe\">\n",
       "  <thead>\n",
       "    <tr style=\"text-align: right;\">\n",
       "      <th></th>\n",
       "      <th>subreddit</th>\n",
       "      <th>is_self</th>\n",
       "      <th>is_video</th>\n",
       "      <th>selftext</th>\n",
       "      <th>title</th>\n",
       "      <th>subreddit_id</th>\n",
       "      <th>created_utc</th>\n",
       "      <th>author</th>\n",
       "      <th>upvote_ratio</th>\n",
       "      <th>num_comments</th>\n",
       "      <th>...</th>\n",
       "      <th>title_lem</th>\n",
       "      <th>selftext_lem_stop</th>\n",
       "      <th>title_lem_stop</th>\n",
       "      <th>title_text_lem_stop</th>\n",
       "      <th>title_len</th>\n",
       "      <th>selftext_len</th>\n",
       "      <th>scores</th>\n",
       "      <th>compound</th>\n",
       "      <th>compound_score</th>\n",
       "      <th>is_yoga</th>\n",
       "    </tr>\n",
       "  </thead>\n",
       "  <tbody>\n",
       "    <tr>\n",
       "      <th>0</th>\n",
       "      <td>Meditation</td>\n",
       "      <td>True</td>\n",
       "      <td>False</td>\n",
       "      <td>Now that I have burned all the past karma that...</td>\n",
       "      <td>Massive announcement concerning the future of ...</td>\n",
       "      <td>t5_2qnc9</td>\n",
       "      <td>1640907530</td>\n",
       "      <td>Extension_Mouse686</td>\n",
       "      <td>1.0</td>\n",
       "      <td>0</td>\n",
       "      <td>...</td>\n",
       "      <td>Massive announcement concerning the future of ...</td>\n",
       "      <td>Now I burned past karma weighing approximately...</td>\n",
       "      <td>Massive announcement concerning future human s...</td>\n",
       "      <td>Massive announcement concerning future human s...</td>\n",
       "      <td>18</td>\n",
       "      <td>345</td>\n",
       "      <td>{'neg': 0.106, 'neu': 0.634, 'pos': 0.259, 'co...</td>\n",
       "      <td>0.9948</td>\n",
       "      <td>positive</td>\n",
       "      <td>0</td>\n",
       "    </tr>\n",
       "    <tr>\n",
       "      <th>1</th>\n",
       "      <td>Meditation</td>\n",
       "      <td>True</td>\n",
       "      <td>False</td>\n",
       "      <td>I have been meditating for 220 consecutive day...</td>\n",
       "      <td>Meditation Technique to deal with the first mi...</td>\n",
       "      <td>t5_2qnc9</td>\n",
       "      <td>1640903751</td>\n",
       "      <td>hartmanners</td>\n",
       "      <td>1.0</td>\n",
       "      <td>0</td>\n",
       "      <td>...</td>\n",
       "      <td>Meditation Technique to deal with the first mi...</td>\n",
       "      <td>I meditating 220 consecutive day today I usual...</td>\n",
       "      <td>Meditation Technique deal minute noisy mind</td>\n",
       "      <td>Meditation Technique deal minute noisy mind I ...</td>\n",
       "      <td>6</td>\n",
       "      <td>138</td>\n",
       "      <td>{'neg': 0.101, 'neu': 0.646, 'pos': 0.253, 'co...</td>\n",
       "      <td>0.9766</td>\n",
       "      <td>positive</td>\n",
       "      <td>0</td>\n",
       "    </tr>\n",
       "    <tr>\n",
       "      <th>2</th>\n",
       "      <td>Meditation</td>\n",
       "      <td>True</td>\n",
       "      <td>False</td>\n",
       "      <td>I’ve tried to make meditation a part of my dai...</td>\n",
       "      <td>What should I focus on if I’m meditating witho...</td>\n",
       "      <td>t5_2qnc9</td>\n",
       "      <td>1640898514</td>\n",
       "      <td>v_philosoph</td>\n",
       "      <td>1.0</td>\n",
       "      <td>0</td>\n",
       "      <td>...</td>\n",
       "      <td>What should I focus on if I m meditating witho...</td>\n",
       "      <td>I tried make daily habit stick I notice I use ...</td>\n",
       "      <td>What I focus I meditating video guide</td>\n",
       "      <td>What I focus I meditating video guide I tried ...</td>\n",
       "      <td>7</td>\n",
       "      <td>48</td>\n",
       "      <td>{'neg': 0.0, 'neu': 0.878, 'pos': 0.122, 'comp...</td>\n",
       "      <td>0.6901</td>\n",
       "      <td>positive</td>\n",
       "      <td>0</td>\n",
       "    </tr>\n",
       "    <tr>\n",
       "      <th>3</th>\n",
       "      <td>Meditation</td>\n",
       "      <td>True</td>\n",
       "      <td>False</td>\n",
       "      <td>I have periods during the day where my mind is...</td>\n",
       "      <td>Racing mind, adhd?</td>\n",
       "      <td>t5_2qnc9</td>\n",
       "      <td>1640896254</td>\n",
       "      <td>chris152772272727829</td>\n",
       "      <td>1.0</td>\n",
       "      <td>0</td>\n",
       "      <td>...</td>\n",
       "      <td>Racing mind adhd</td>\n",
       "      <td>I period day mind racing thought Is adhd Think...</td>\n",
       "      <td>Racing mind adhd</td>\n",
       "      <td>Racing mind adhd I period day mind racing thou...</td>\n",
       "      <td>3</td>\n",
       "      <td>18</td>\n",
       "      <td>{'neg': 0.115, 'neu': 0.769, 'pos': 0.115, 'co...</td>\n",
       "      <td>0.0000</td>\n",
       "      <td>neutral</td>\n",
       "      <td>0</td>\n",
       "    </tr>\n",
       "    <tr>\n",
       "      <th>4</th>\n",
       "      <td>Meditation</td>\n",
       "      <td>True</td>\n",
       "      <td>False</td>\n",
       "      <td>I think I’ve been meditating correctly for a w...</td>\n",
       "      <td>Is there such a thing as “spiritual meditation...</td>\n",
       "      <td>t5_2qnc9</td>\n",
       "      <td>1640895782</td>\n",
       "      <td>OkStep3679</td>\n",
       "      <td>1.0</td>\n",
       "      <td>0</td>\n",
       "      <td>...</td>\n",
       "      <td>Is there such a thing a spiritual meditation v...</td>\n",
       "      <td>I think I meditating correctly consistent I su...</td>\n",
       "      <td>Is thing spiritual v</td>\n",
       "      <td>Is thing spiritual v I think I meditating corr...</td>\n",
       "      <td>4</td>\n",
       "      <td>39</td>\n",
       "      <td>{'neg': 0.076, 'neu': 0.764, 'pos': 0.16, 'com...</td>\n",
       "      <td>0.3400</td>\n",
       "      <td>positive</td>\n",
       "      <td>0</td>\n",
       "    </tr>\n",
       "  </tbody>\n",
       "</table>\n",
       "<p>5 rows × 23 columns</p>\n",
       "</div>"
      ],
      "text/plain": [
       "    subreddit  is_self  is_video  \\\n",
       "0  Meditation     True     False   \n",
       "1  Meditation     True     False   \n",
       "2  Meditation     True     False   \n",
       "3  Meditation     True     False   \n",
       "4  Meditation     True     False   \n",
       "\n",
       "                                            selftext  \\\n",
       "0  Now that I have burned all the past karma that...   \n",
       "1  I have been meditating for 220 consecutive day...   \n",
       "2  I’ve tried to make meditation a part of my dai...   \n",
       "3  I have periods during the day where my mind is...   \n",
       "4  I think I’ve been meditating correctly for a w...   \n",
       "\n",
       "                                               title subreddit_id  \\\n",
       "0  Massive announcement concerning the future of ...     t5_2qnc9   \n",
       "1  Meditation Technique to deal with the first mi...     t5_2qnc9   \n",
       "2  What should I focus on if I’m meditating witho...     t5_2qnc9   \n",
       "3                                 Racing mind, adhd?     t5_2qnc9   \n",
       "4  Is there such a thing as “spiritual meditation...     t5_2qnc9   \n",
       "\n",
       "   created_utc                author  upvote_ratio  num_comments  ...  \\\n",
       "0   1640907530    Extension_Mouse686           1.0             0  ...   \n",
       "1   1640903751           hartmanners           1.0             0  ...   \n",
       "2   1640898514           v_philosoph           1.0             0  ...   \n",
       "3   1640896254  chris152772272727829           1.0             0  ...   \n",
       "4   1640895782            OkStep3679           1.0             0  ...   \n",
       "\n",
       "                                           title_lem  \\\n",
       "0  Massive announcement concerning the future of ...   \n",
       "1  Meditation Technique to deal with the first mi...   \n",
       "2  What should I focus on if I m meditating witho...   \n",
       "3                                   Racing mind adhd   \n",
       "4  Is there such a thing a spiritual meditation v...   \n",
       "\n",
       "                                   selftext_lem_stop  \\\n",
       "0  Now I burned past karma weighing approximately...   \n",
       "1  I meditating 220 consecutive day today I usual...   \n",
       "2  I tried make daily habit stick I notice I use ...   \n",
       "3  I period day mind racing thought Is adhd Think...   \n",
       "4  I think I meditating correctly consistent I su...   \n",
       "\n",
       "                                      title_lem_stop  \\\n",
       "0  Massive announcement concerning future human s...   \n",
       "1        Meditation Technique deal minute noisy mind   \n",
       "2              What I focus I meditating video guide   \n",
       "3                                   Racing mind adhd   \n",
       "4                               Is thing spiritual v   \n",
       "\n",
       "                                 title_text_lem_stop title_len selftext_len  \\\n",
       "0  Massive announcement concerning future human s...        18          345   \n",
       "1  Meditation Technique deal minute noisy mind I ...         6          138   \n",
       "2  What I focus I meditating video guide I tried ...         7           48   \n",
       "3  Racing mind adhd I period day mind racing thou...         3           18   \n",
       "4  Is thing spiritual v I think I meditating corr...         4           39   \n",
       "\n",
       "                                              scores  compound  \\\n",
       "0  {'neg': 0.106, 'neu': 0.634, 'pos': 0.259, 'co...    0.9948   \n",
       "1  {'neg': 0.101, 'neu': 0.646, 'pos': 0.253, 'co...    0.9766   \n",
       "2  {'neg': 0.0, 'neu': 0.878, 'pos': 0.122, 'comp...    0.6901   \n",
       "3  {'neg': 0.115, 'neu': 0.769, 'pos': 0.115, 'co...    0.0000   \n",
       "4  {'neg': 0.076, 'neu': 0.764, 'pos': 0.16, 'com...    0.3400   \n",
       "\n",
       "   compound_score is_yoga  \n",
       "0        positive       0  \n",
       "1        positive       0  \n",
       "2        positive       0  \n",
       "3         neutral       0  \n",
       "4        positive       0  \n",
       "\n",
       "[5 rows x 23 columns]"
      ]
     },
     "execution_count": 17,
     "metadata": {},
     "output_type": "execute_result"
    }
   ],
   "source": [
    "df.head()"
   ]
  },
  {
   "cell_type": "code",
   "execution_count": 18,
   "id": "33acc7fa",
   "metadata": {},
   "outputs": [],
   "source": [
    "df['title_len'] = len(df['title_lem_stop'])\n",
    "df['selftext_len'] = len(df['selftext_lem_stop'])"
   ]
  },
  {
   "cell_type": "code",
   "execution_count": 19,
   "id": "33f4addb",
   "metadata": {},
   "outputs": [],
   "source": [
    "# bm stands for benchmark\n",
    "X_bm =df[['upvote_ratio', 'num_comments', 'title_len', 'selftext_len', 'compound']]\n",
    "y_bm = df['is_yoga']"
   ]
  },
  {
   "cell_type": "code",
   "execution_count": 20,
   "id": "1d871d9b",
   "metadata": {},
   "outputs": [],
   "source": [
    "# Split our data into train and test data\n",
    "X_bm_train, X_bm_test, y_bm_train, y_bm_test = train_test_split(X_bm, y_bm, test_size=0.3, stratify=y, random_state=42)"
   ]
  },
  {
   "cell_type": "code",
   "execution_count": 21,
   "id": "58f33892",
   "metadata": {},
   "outputs": [
    {
     "data": {
      "text/plain": [
       "LogisticRegression()"
      ]
     },
     "execution_count": 21,
     "metadata": {},
     "output_type": "execute_result"
    }
   ],
   "source": [
    "logreg = LogisticRegression()\n",
    "logreg.fit(X_bm_train, y_bm_train)"
   ]
  },
  {
   "cell_type": "code",
   "execution_count": 22,
   "id": "3f200375",
   "metadata": {},
   "outputs": [
    {
     "data": {
      "text/plain": [
       "0.6335350043215212"
      ]
     },
     "execution_count": 22,
     "metadata": {},
     "output_type": "execute_result"
    }
   ],
   "source": [
    "logreg.score(X_bm_train, y_bm_train)"
   ]
  },
  {
   "cell_type": "code",
   "execution_count": 23,
   "id": "41ae5b91",
   "metadata": {},
   "outputs": [
    {
     "data": {
      "text/plain": [
       "0.6310483870967742"
      ]
     },
     "execution_count": 23,
     "metadata": {},
     "output_type": "execute_result"
    }
   ],
   "source": [
    "logreg.score(X_bm_test, y_bm_test)"
   ]
  },
  {
   "cell_type": "code",
   "execution_count": 24,
   "id": "7422090b",
   "metadata": {},
   "outputs": [],
   "source": [
    "bm1_pred = logreg.predict(X_bm_test)"
   ]
  },
  {
   "cell_type": "code",
   "execution_count": 25,
   "id": "bdd986d4",
   "metadata": {},
   "outputs": [
    {
     "name": "stdout",
     "output_type": "stream",
     "text": [
      "True Negatives: 285\n",
      "False Positives: 13\n",
      "False Negatives: 170\n",
      "True Positives: 28\n"
     ]
    }
   ],
   "source": [
    "tn, fp, fn, tp = confusion_matrix(y_bm_test, bm1_pred).ravel()\n",
    "\n",
    "print(\"True Negatives: %s\" % tn)\n",
    "print(\"False Positives: %s\" % fp)\n",
    "print(\"False Negatives: %s\" % fn)\n",
    "print(\"True Positives: %s\" % tp)"
   ]
  },
  {
   "cell_type": "markdown",
   "id": "d05fa739",
   "metadata": {},
   "source": [
    "True Positives are r/Yoga posts that were correctly classified by our model. True Negatives are r/Meditation posts that were correctly classified by our model. We can see that the model still incorrectly classifies about 13 posts from yoga subreddit and 165 from meditation subreddit which is not ideal. We will lose 165 potential yoga enthusiast!"
   ]
  },
  {
   "cell_type": "code",
   "execution_count": 26,
   "id": "b653782c",
   "metadata": {},
   "outputs": [
    {
     "name": "stdout",
     "output_type": "stream",
     "text": [
      "              precision    recall  f1-score   support\n",
      "\n",
      "           0       0.63      0.96      0.76       298\n",
      "           1       0.68      0.14      0.23       198\n",
      "\n",
      "    accuracy                           0.63       496\n",
      "   macro avg       0.65      0.55      0.50       496\n",
      "weighted avg       0.65      0.63      0.55       496\n",
      "\n"
     ]
    }
   ],
   "source": [
    "print(classification_report(y_bm_test, bm1_pred))"
   ]
  },
  {
   "cell_type": "markdown",
   "id": "e66c66ff",
   "metadata": {},
   "source": [
    "### Logistic Regression"
   ]
  },
  {
   "cell_type": "code",
   "execution_count": 27,
   "id": "476c6dc4",
   "metadata": {},
   "outputs": [
    {
     "name": "stdout",
     "output_type": "stream",
     "text": [
      "### METRICS ###\n"
     ]
    },
    {
     "data": {
      "text/plain": [
       "{'model': 'lr',\n",
       " 'vectorizer': 'cvec',\n",
       " 'train': 0.9983857949959645,\n",
       " 'test': 0.8768115942028986,\n",
       " 'roc': 0.8536327126688572,\n",
       " 'precision': 0.9384615384615385,\n",
       " 'recall': 0.7393939393939394,\n",
       " 'f_score': 0.8271186440677966}"
      ]
     },
     "metadata": {},
     "output_type": "display_data"
    },
    {
     "name": "stdout",
     "output_type": "stream",
     "text": [
      "True Negatives: 241\n",
      "False Positives: 8\n",
      "False Negatives: 43\n",
      "True Positives: 122\n"
     ]
    }
   ],
   "source": [
    "# Logistic Regression with CountVectorizer\n",
    "cvec_lr = model_run('cvec', 'lr')"
   ]
  },
  {
   "cell_type": "code",
   "execution_count": 28,
   "id": "e6dfe13a",
   "metadata": {},
   "outputs": [
    {
     "name": "stdout",
     "output_type": "stream",
     "text": [
      "### METRICS ###\n"
     ]
    },
    {
     "data": {
      "text/plain": [
       "{'model': 'lr',\n",
       " 'vectorizer': 'tvec',\n",
       " 'train': 0.9588377723970944,\n",
       " 'test': 0.8743961352657005,\n",
       " 'roc': 0.8444687842278205,\n",
       " 'precision': 0.9829059829059829,\n",
       " 'recall': 0.696969696969697,\n",
       " 'f_score': 0.8156028368794327}"
      ]
     },
     "metadata": {},
     "output_type": "display_data"
    },
    {
     "name": "stdout",
     "output_type": "stream",
     "text": [
      "True Negatives: 247\n",
      "False Positives: 2\n",
      "False Negatives: 50\n",
      "True Positives: 115\n"
     ]
    }
   ],
   "source": [
    "# Logistic Regression with TfdifVectorizer\n",
    "tvec_lr = model_run('tvec', 'lr')"
   ]
  },
  {
   "cell_type": "code",
   "execution_count": 29,
   "id": "04dee8b6",
   "metadata": {},
   "outputs": [
    {
     "name": "stdout",
     "output_type": "stream",
     "text": [
      "### METRICS ###\n"
     ]
    },
    {
     "data": {
      "text/plain": [
       "{'model': 'lr',\n",
       " 'vectorizer': 'hv',\n",
       " 'train': 0.9515738498789347,\n",
       " 'test': 0.8671497584541062,\n",
       " 'roc': 0.8384446878422782,\n",
       " 'precision': 0.9583333333333334,\n",
       " 'recall': 0.696969696969697,\n",
       " 'f_score': 0.8070175438596493}"
      ]
     },
     "metadata": {},
     "output_type": "display_data"
    },
    {
     "name": "stdout",
     "output_type": "stream",
     "text": [
      "True Negatives: 244\n",
      "False Positives: 5\n",
      "False Negatives: 50\n",
      "True Positives: 115\n"
     ]
    }
   ],
   "source": [
    "# Logistic Regression with TfdifVectorizer\n",
    "tvec_lr = model_run('hv', 'lr')"
   ]
  },
  {
   "cell_type": "markdown",
   "id": "cb460b40",
   "metadata": {},
   "source": [
    "HashingVectorizer() was also experimented as it has low memory requirement by storing tokens as strings but because this we can no longer retrieve the features after vectorizing.  Besides, we decided to drop using this in subsequent models due to weaker scores compared to the other two vectorizers."
   ]
  },
  {
   "cell_type": "markdown",
   "id": "b17d2178",
   "metadata": {},
   "source": [
    "Comparing TVEC,CVEC and HashVectorizer, clearly cvec yields a higher R2 score and f1-score."
   ]
  },
  {
   "cell_type": "markdown",
   "id": "b3969542",
   "metadata": {},
   "source": [
    "### Random Forest / Extra Tree Classifier with CVEC"
   ]
  },
  {
   "cell_type": "markdown",
   "id": "262a45fc",
   "metadata": {},
   "source": [
    "Random forest is a tree-based machine learning algorithm that leverages the power of multiple decision trees for making decisions. Each node in the decision tree works on a random subset of features to calculate the output which is aggregated to form the final output.\n",
    "\n",
    "The Extra Trees classifier works similar to this, but incorporates bootstrap aggregation (or random sampling with replacement) in order to reduce variance and help with overfitting. In general, both methods provided worse results relative to logistic regression."
   ]
  },
  {
   "cell_type": "code",
   "execution_count": 30,
   "id": "8cc0a06c",
   "metadata": {},
   "outputs": [
    {
     "name": "stdout",
     "output_type": "stream",
     "text": [
      "### METRICS ###\n"
     ]
    },
    {
     "data": {
      "text/plain": [
       "{'model': 'rf',\n",
       " 'vectorizer': 'cvec',\n",
       " 'train': 1.0,\n",
       " 'test': 0.8647342995169082,\n",
       " 'roc': 0.8343921139101862,\n",
       " 'precision': 0.9658119658119658,\n",
       " 'recall': 0.6848484848484848,\n",
       " 'f_score': 0.8014184397163121}"
      ]
     },
     "metadata": {},
     "output_type": "display_data"
    },
    {
     "name": "stdout",
     "output_type": "stream",
     "text": [
      "True Negatives: 245\n",
      "False Positives: 4\n",
      "False Negatives: 52\n",
      "True Positives: 113\n"
     ]
    }
   ],
   "source": [
    "cvec_rf = model_run('cvec', 'rf')"
   ]
  },
  {
   "cell_type": "code",
   "execution_count": 31,
   "id": "07f259eb",
   "metadata": {},
   "outputs": [
    {
     "name": "stdout",
     "output_type": "stream",
     "text": [
      "### METRICS ###\n"
     ]
    },
    {
     "data": {
      "text/plain": [
       "{'model': 'rf',\n",
       " 'vectorizer': 'tvec',\n",
       " 'train': 1.0,\n",
       " 'test': 0.8502415458937198,\n",
       " 'roc': 0.8182548375319459,\n",
       " 'precision': 0.9478260869565217,\n",
       " 'recall': 0.6606060606060606,\n",
       " 'f_score': 0.7785714285714286}"
      ]
     },
     "metadata": {},
     "output_type": "display_data"
    },
    {
     "name": "stdout",
     "output_type": "stream",
     "text": [
      "True Negatives: 243\n",
      "False Positives: 6\n",
      "False Negatives: 56\n",
      "True Positives: 109\n"
     ]
    }
   ],
   "source": [
    "tvec_rf = model_run('tvec', 'rf')"
   ]
  },
  {
   "cell_type": "code",
   "execution_count": 32,
   "id": "452beeb3",
   "metadata": {},
   "outputs": [
    {
     "name": "stdout",
     "output_type": "stream",
     "text": [
      "### METRICS ###\n"
     ]
    },
    {
     "data": {
      "text/plain": [
       "{'model': 'et',\n",
       " 'vectorizer': 'cvec',\n",
       " 'train': 1.0,\n",
       " 'test': 0.8671497584541062,\n",
       " 'roc': 0.8435560423512231,\n",
       " 'precision': 0.9230769230769231,\n",
       " 'recall': 0.7272727272727273,\n",
       " 'f_score': 0.8135593220338984}"
      ]
     },
     "metadata": {},
     "output_type": "display_data"
    },
    {
     "name": "stdout",
     "output_type": "stream",
     "text": [
      "True Negatives: 239\n",
      "False Positives: 10\n",
      "False Negatives: 45\n",
      "True Positives: 120\n"
     ]
    }
   ],
   "source": [
    "cvec_et = model_run('cvec', 'et')"
   ]
  },
  {
   "cell_type": "code",
   "execution_count": 33,
   "id": "86f2d556",
   "metadata": {},
   "outputs": [
    {
     "name": "stdout",
     "output_type": "stream",
     "text": [
      "### METRICS ###\n"
     ]
    },
    {
     "data": {
      "text/plain": [
       "{'model': 'et',\n",
       " 'vectorizer': 'tvec',\n",
       " 'train': 1.0,\n",
       " 'test': 0.857487922705314,\n",
       " 'roc': 0.828368017524644,\n",
       " 'precision': 0.9416666666666667,\n",
       " 'recall': 0.6848484848484848,\n",
       " 'f_score': 0.7929824561403509}"
      ]
     },
     "metadata": {},
     "output_type": "display_data"
    },
    {
     "name": "stdout",
     "output_type": "stream",
     "text": [
      "True Negatives: 242\n",
      "False Positives: 7\n",
      "False Negatives: 52\n",
      "True Positives: 113\n"
     ]
    }
   ],
   "source": [
    "tvec_et = model_run('tvec', 'et')"
   ]
  },
  {
   "cell_type": "markdown",
   "id": "346754ba",
   "metadata": {},
   "source": [
    "Both random forest and extra trees classifier did not score that well compared to logistic regression with cvec. We would need to explore further on how to get a better model."
   ]
  },
  {
   "cell_type": "markdown",
   "id": "6393df53",
   "metadata": {},
   "source": [
    "### Adaptive Boost & Gradient Boost"
   ]
  },
  {
   "cell_type": "markdown",
   "id": "43a4d850",
   "metadata": {},
   "source": [
    "Both of these methods are ensemble machine learning methods that combine multiple simple models into a single composite model. Both adaptive and gradient boosting involves building weak learners in a sequential fashion, with the final prediction generated by the weighted average of all the weak learners, where more weight is placed on stronger learners. Adaptive boosting is slightly different from gradient boosting, as it put more weight on misclassified samples and less weight on correctly classified samples."
   ]
  },
  {
   "cell_type": "code",
   "execution_count": 34,
   "id": "fe461ed7",
   "metadata": {},
   "outputs": [
    {
     "name": "stdout",
     "output_type": "stream",
     "text": [
      "### METRICS ###\n"
     ]
    },
    {
     "data": {
      "text/plain": [
       "{'model': 'ada',\n",
       " 'vectorizer': 'cvec',\n",
       " 'train': 0.9112187247780468,\n",
       " 'test': 0.8405797101449275,\n",
       " 'roc': 0.8153340635268346,\n",
       " 'precision': 0.8837209302325582,\n",
       " 'recall': 0.6909090909090909,\n",
       " 'f_score': 0.7755102040816326}"
      ]
     },
     "metadata": {},
     "output_type": "display_data"
    },
    {
     "name": "stdout",
     "output_type": "stream",
     "text": [
      "True Negatives: 234\n",
      "False Positives: 15\n",
      "False Negatives: 51\n",
      "True Positives: 114\n"
     ]
    }
   ],
   "source": [
    "cvec_ada = model_run('cvec', 'ada')"
   ]
  },
  {
   "cell_type": "code",
   "execution_count": 35,
   "id": "37611a11",
   "metadata": {},
   "outputs": [
    {
     "name": "stdout",
     "output_type": "stream",
     "text": [
      "### METRICS ###\n"
     ]
    },
    {
     "data": {
      "text/plain": [
       "{'model': 'ada',\n",
       " 'vectorizer': 'tvec',\n",
       " 'train': 0.9249394673123487,\n",
       " 'test': 0.8236714975845411,\n",
       " 'roc': 0.7961664841182914,\n",
       " 'precision': 0.8650793650793651,\n",
       " 'recall': 0.6606060606060606,\n",
       " 'f_score': 0.7491408934707905}"
      ]
     },
     "metadata": {},
     "output_type": "display_data"
    },
    {
     "name": "stdout",
     "output_type": "stream",
     "text": [
      "True Negatives: 232\n",
      "False Positives: 17\n",
      "False Negatives: 56\n",
      "True Positives: 109\n"
     ]
    }
   ],
   "source": [
    "tvec_ada = model_run('tvec', 'ada')"
   ]
  },
  {
   "cell_type": "code",
   "execution_count": 36,
   "id": "0c372e6e",
   "metadata": {},
   "outputs": [
    {
     "name": "stdout",
     "output_type": "stream",
     "text": [
      "### METRICS ###\n"
     ]
    },
    {
     "data": {
      "text/plain": [
       "{'model': 'gb',\n",
       " 'vectorizer': 'cvec',\n",
       " 'train': 0.9281678773204197,\n",
       " 'test': 0.8140096618357487,\n",
       " 'roc': 0.7707557502738226,\n",
       " 'precision': 0.9583333333333334,\n",
       " 'recall': 0.5575757575757576,\n",
       " 'f_score': 0.7049808429118775}"
      ]
     },
     "metadata": {},
     "output_type": "display_data"
    },
    {
     "name": "stdout",
     "output_type": "stream",
     "text": [
      "True Negatives: 245\n",
      "False Positives: 4\n",
      "False Negatives: 73\n",
      "True Positives: 92\n"
     ]
    }
   ],
   "source": [
    "cvec_gb = model_run('cvec', 'gb')"
   ]
  },
  {
   "cell_type": "code",
   "execution_count": 37,
   "id": "d91bbea3",
   "metadata": {},
   "outputs": [
    {
     "name": "stdout",
     "output_type": "stream",
     "text": [
      "### METRICS ###\n"
     ]
    },
    {
     "data": {
      "text/plain": [
       "{'model': 'gb',\n",
       " 'vectorizer': 'tvec',\n",
       " 'train': 0.930589184826473,\n",
       " 'test': 0.8164251207729468,\n",
       " 'roc': 0.7737860533041255,\n",
       " 'precision': 0.9587628865979382,\n",
       " 'recall': 0.5636363636363636,\n",
       " 'f_score': 0.7099236641221374}"
      ]
     },
     "metadata": {},
     "output_type": "display_data"
    },
    {
     "name": "stdout",
     "output_type": "stream",
     "text": [
      "True Negatives: 245\n",
      "False Positives: 4\n",
      "False Negatives: 72\n",
      "True Positives: 93\n"
     ]
    }
   ],
   "source": [
    "tvec_gb = model_run('tvec', 'gb')"
   ]
  },
  {
   "cell_type": "markdown",
   "id": "be072720",
   "metadata": {},
   "source": [
    "In this case, the adaptive boosting model is performing better than the gradient boosting model with a higher accuracy on test data and the f1-score."
   ]
  },
  {
   "cell_type": "markdown",
   "id": "7f0083ff",
   "metadata": {},
   "source": [
    "### Naive Bayes"
   ]
  },
  {
   "cell_type": "markdown",
   "id": "80a3374a",
   "metadata": {},
   "source": [
    "Naive Bayes classifiers works off Bayes' theroem, which describes the probability of an event, based on prior knowledge of conditions that might be related to the event.\n",
    "\n",
    "In this case we will be using Multinomial Naive Bayes that looks at the frequency of the words present in our data."
   ]
  },
  {
   "cell_type": "code",
   "execution_count": 38,
   "id": "679a2eac",
   "metadata": {},
   "outputs": [
    {
     "name": "stdout",
     "output_type": "stream",
     "text": [
      "### METRICS ###\n"
     ]
    },
    {
     "data": {
      "text/plain": [
       "{'model': 'nb',\n",
       " 'vectorizer': 'cvec',\n",
       " 'train': 0.9685230024213075,\n",
       " 'test': 0.9154589371980676,\n",
       " 'roc': 0.9072289156626506,\n",
       " 'precision': 0.9166666666666666,\n",
       " 'recall': 0.8666666666666667,\n",
       " 'f_score': 0.8909657320872274}"
      ]
     },
     "metadata": {},
     "output_type": "display_data"
    },
    {
     "name": "stdout",
     "output_type": "stream",
     "text": [
      "True Negatives: 236\n",
      "False Positives: 13\n",
      "False Negatives: 22\n",
      "True Positives: 143\n"
     ]
    }
   ],
   "source": [
    "cvec_nb = model_run('cvec', 'nb')"
   ]
  },
  {
   "cell_type": "code",
   "execution_count": 39,
   "id": "45521946",
   "metadata": {},
   "outputs": [
    {
     "name": "stdout",
     "output_type": "stream",
     "text": [
      "### METRICS ###\n"
     ]
    },
    {
     "data": {
      "text/plain": [
       "{'model': 'nb',\n",
       " 'vectorizer': 'tvec',\n",
       " 'train': 0.9225181598062954,\n",
       " 'test': 0.8357487922705314,\n",
       " 'roc': 0.7949616648411829,\n",
       " 'precision': 0.98989898989899,\n",
       " 'recall': 0.593939393939394,\n",
       " 'f_score': 0.7424242424242425}"
      ]
     },
     "metadata": {},
     "output_type": "display_data"
    },
    {
     "name": "stdout",
     "output_type": "stream",
     "text": [
      "True Negatives: 248\n",
      "False Positives: 1\n",
      "False Negatives: 67\n",
      "True Positives: 98\n"
     ]
    }
   ],
   "source": [
    "tvec_nb = model_run('tvec', 'nb')"
   ]
  },
  {
   "cell_type": "markdown",
   "id": "20573bb1",
   "metadata": {},
   "source": [
    "The Multinomial Naive Bayes classifier with count vectorizer has an extremely high recall and f-score which is great at predicting r/yoga posts."
   ]
  },
  {
   "cell_type": "markdown",
   "id": "4f5796b1",
   "metadata": {},
   "source": [
    "### Support Vector Machine Classifier"
   ]
  },
  {
   "cell_type": "markdown",
   "id": "39118eaa",
   "metadata": {},
   "source": [
    "Support vector machine classifer separates data points using a hyperplane with the largest amount of margin and classifies them accordingly. In other words, the algorithm determines the best decision boundary between vectors that belong to a given group (or category) and vectors that do not belong to it."
   ]
  },
  {
   "cell_type": "code",
   "execution_count": 40,
   "id": "d9a15b2f",
   "metadata": {},
   "outputs": [
    {
     "name": "stdout",
     "output_type": "stream",
     "text": [
      "### METRICS ###\n"
     ]
    },
    {
     "data": {
      "text/plain": [
       "{'model': 'svc',\n",
       " 'vectorizer': 'cvec',\n",
       " 'train': 0.9297820823244553,\n",
       " 'test': 0.8260869565217391,\n",
       " 'roc': 0.7859072654253377,\n",
       " 'precision': 0.9603960396039604,\n",
       " 'recall': 0.5878787878787879,\n",
       " 'f_score': 0.7293233082706767}"
      ]
     },
     "metadata": {},
     "output_type": "display_data"
    },
    {
     "name": "stdout",
     "output_type": "stream",
     "text": [
      "True Negatives: 245\n",
      "False Positives: 4\n",
      "False Negatives: 68\n",
      "True Positives: 97\n"
     ]
    }
   ],
   "source": [
    "cvec_svc = model_run('cvec', 'svc')"
   ]
  },
  {
   "cell_type": "code",
   "execution_count": 41,
   "id": "ca128043",
   "metadata": {},
   "outputs": [
    {
     "name": "stdout",
     "output_type": "stream",
     "text": [
      "### METRICS ###\n"
     ]
    },
    {
     "data": {
      "text/plain": [
       "{'model': 'svc',\n",
       " 'vectorizer': 'tvec',\n",
       " 'train': 0.9991928974979822,\n",
       " 'test': 0.8671497584541062,\n",
       " 'roc': 0.8384446878422782,\n",
       " 'precision': 0.9583333333333334,\n",
       " 'recall': 0.696969696969697,\n",
       " 'f_score': 0.8070175438596493}"
      ]
     },
     "metadata": {},
     "output_type": "display_data"
    },
    {
     "name": "stdout",
     "output_type": "stream",
     "text": [
      "True Negatives: 244\n",
      "False Positives: 5\n",
      "False Negatives: 50\n",
      "True Positives: 115\n"
     ]
    }
   ],
   "source": [
    "tvec_svc = model_run('tvec', 'svc')"
   ]
  },
  {
   "cell_type": "code",
   "execution_count": 42,
   "id": "52080ac6",
   "metadata": {},
   "outputs": [],
   "source": [
    "eval_df = pd.DataFrame(eval_list)"
   ]
  },
  {
   "cell_type": "code",
   "execution_count": 43,
   "id": "7fd2a4e8",
   "metadata": {},
   "outputs": [
    {
     "data": {
      "text/html": [
       "<div>\n",
       "<style scoped>\n",
       "    .dataframe tbody tr th:only-of-type {\n",
       "        vertical-align: middle;\n",
       "    }\n",
       "\n",
       "    .dataframe tbody tr th {\n",
       "        vertical-align: top;\n",
       "    }\n",
       "\n",
       "    .dataframe thead th {\n",
       "        text-align: right;\n",
       "    }\n",
       "</style>\n",
       "<table border=\"1\" class=\"dataframe\">\n",
       "  <thead>\n",
       "    <tr style=\"text-align: right;\">\n",
       "      <th></th>\n",
       "      <th>model</th>\n",
       "      <th>vectorizer</th>\n",
       "      <th>train</th>\n",
       "      <th>test</th>\n",
       "      <th>roc</th>\n",
       "      <th>precision</th>\n",
       "      <th>recall</th>\n",
       "      <th>f_score</th>\n",
       "    </tr>\n",
       "  </thead>\n",
       "  <tbody>\n",
       "    <tr>\n",
       "      <th>0</th>\n",
       "      <td>nb</td>\n",
       "      <td>cvec</td>\n",
       "      <td>0.968523</td>\n",
       "      <td>0.915459</td>\n",
       "      <td>0.907229</td>\n",
       "      <td>0.916667</td>\n",
       "      <td>0.866667</td>\n",
       "      <td>0.890966</td>\n",
       "    </tr>\n",
       "    <tr>\n",
       "      <th>1</th>\n",
       "      <td>lr</td>\n",
       "      <td>cvec</td>\n",
       "      <td>0.998386</td>\n",
       "      <td>0.876812</td>\n",
       "      <td>0.853633</td>\n",
       "      <td>0.938462</td>\n",
       "      <td>0.739394</td>\n",
       "      <td>0.827119</td>\n",
       "    </tr>\n",
       "    <tr>\n",
       "      <th>2</th>\n",
       "      <td>lr</td>\n",
       "      <td>tvec</td>\n",
       "      <td>0.958838</td>\n",
       "      <td>0.874396</td>\n",
       "      <td>0.844469</td>\n",
       "      <td>0.982906</td>\n",
       "      <td>0.696970</td>\n",
       "      <td>0.815603</td>\n",
       "    </tr>\n",
       "    <tr>\n",
       "      <th>3</th>\n",
       "      <td>lr</td>\n",
       "      <td>hv</td>\n",
       "      <td>0.951574</td>\n",
       "      <td>0.867150</td>\n",
       "      <td>0.838445</td>\n",
       "      <td>0.958333</td>\n",
       "      <td>0.696970</td>\n",
       "      <td>0.807018</td>\n",
       "    </tr>\n",
       "    <tr>\n",
       "      <th>4</th>\n",
       "      <td>et</td>\n",
       "      <td>cvec</td>\n",
       "      <td>1.000000</td>\n",
       "      <td>0.867150</td>\n",
       "      <td>0.843556</td>\n",
       "      <td>0.923077</td>\n",
       "      <td>0.727273</td>\n",
       "      <td>0.813559</td>\n",
       "    </tr>\n",
       "    <tr>\n",
       "      <th>5</th>\n",
       "      <td>svc</td>\n",
       "      <td>tvec</td>\n",
       "      <td>0.999193</td>\n",
       "      <td>0.867150</td>\n",
       "      <td>0.838445</td>\n",
       "      <td>0.958333</td>\n",
       "      <td>0.696970</td>\n",
       "      <td>0.807018</td>\n",
       "    </tr>\n",
       "  </tbody>\n",
       "</table>\n",
       "</div>"
      ],
      "text/plain": [
       "  model vectorizer     train      test       roc  precision    recall  \\\n",
       "0    nb       cvec  0.968523  0.915459  0.907229   0.916667  0.866667   \n",
       "1    lr       cvec  0.998386  0.876812  0.853633   0.938462  0.739394   \n",
       "2    lr       tvec  0.958838  0.874396  0.844469   0.982906  0.696970   \n",
       "3    lr         hv  0.951574  0.867150  0.838445   0.958333  0.696970   \n",
       "4    et       cvec  1.000000  0.867150  0.843556   0.923077  0.727273   \n",
       "5   svc       tvec  0.999193  0.867150  0.838445   0.958333  0.696970   \n",
       "\n",
       "    f_score  \n",
       "0  0.890966  \n",
       "1  0.827119  \n",
       "2  0.815603  \n",
       "3  0.807018  \n",
       "4  0.813559  \n",
       "5  0.807018  "
      ]
     },
     "execution_count": 43,
     "metadata": {},
     "output_type": "execute_result"
    }
   ],
   "source": [
    "# Top results (Accuracy >= 0.790)\n",
    "eval_df.sort_values(by='test', ascending=False).reset_index(drop=True).head(6)"
   ]
  },
  {
   "cell_type": "markdown",
   "id": "77a0d0c0",
   "metadata": {},
   "source": [
    "we can see that both naive bayes and logistic regression with cvec rank better in terms of test score, roc score, recall and f1-score."
   ]
  },
  {
   "cell_type": "markdown",
   "id": "a62a4ece",
   "metadata": {},
   "source": [
    "### Model Tuning"
   ]
  },
  {
   "cell_type": "code",
   "execution_count": 44,
   "id": "5e7d2532",
   "metadata": {},
   "outputs": [],
   "source": [
    "# Instantiate list to store tuning results\n",
    "tuning_list = []"
   ]
  },
  {
   "cell_type": "code",
   "execution_count": 45,
   "id": "94c8ac59",
   "metadata": {},
   "outputs": [
    {
     "data": {
      "text/plain": [
       "{'analyzer': 'word',\n",
       " 'binary': False,\n",
       " 'decode_error': 'strict',\n",
       " 'dtype': numpy.int64,\n",
       " 'encoding': 'utf-8',\n",
       " 'input': 'content',\n",
       " 'lowercase': True,\n",
       " 'max_df': 1.0,\n",
       " 'max_features': None,\n",
       " 'min_df': 1,\n",
       " 'ngram_range': (1, 1),\n",
       " 'preprocessor': None,\n",
       " 'stop_words': ['yoga', 'meditation', 'ha', 'lol', 'wa'],\n",
       " 'strip_accents': None,\n",
       " 'token_pattern': '(?u)\\\\b\\\\w\\\\w+\\\\b',\n",
       " 'tokenizer': None,\n",
       " 'vocabulary': None}"
      ]
     },
     "execution_count": 45,
     "metadata": {},
     "output_type": "execute_result"
    }
   ],
   "source": [
    "cv.get_params()"
   ]
  },
  {
   "cell_type": "code",
   "execution_count": 46,
   "id": "15cfa2bf",
   "metadata": {},
   "outputs": [],
   "source": [
    "cvec_params = {\n",
    "    # Setting a limit of n-number of features included/vocab size\n",
    "    'cvec__max_features': [None, 12_000],\n",
    "\n",
    "    # Setting a minimum number of times the word/token has to appear in n-documents\n",
    "    'cvec__min_df':[1, 2, 3],\n",
    "    \n",
    "    # Setting an upper threshold/max percentage of n% of documents from corpus \n",
    "    'cvec__max_df': [0.1, 0.2, 1],\n",
    "    \n",
    "    # Testing with bigrams and trigrams\n",
    "    'cvec__ngram_range':[(1,1), (1,2)],\n",
    "}"
   ]
  },
  {
   "cell_type": "code",
   "execution_count": 47,
   "id": "424245b0",
   "metadata": {},
   "outputs": [],
   "source": [
    "tvec_params = {\n",
    "    'tvec__max_features': [None],\n",
    "    'tvec__min_df':[3, 4, 5],\n",
    "    'tvec__max_df': [0.2, 0.3, 0.4],\n",
    "    'tvec__stop_words': ['english'],\n",
    "    'tvec__ngram_range':[(1,1), (1,2)]\n",
    "}"
   ]
  },
  {
   "cell_type": "markdown",
   "id": "e0771a92",
   "metadata": {},
   "source": [
    "### Model Parameters"
   ]
  },
  {
   "cell_type": "code",
   "execution_count": 48,
   "id": "9b5e5d10",
   "metadata": {},
   "outputs": [
    {
     "data": {
      "text/plain": [
       "{'alpha': 1.0, 'class_prior': None, 'fit_prior': True}"
      ]
     },
     "execution_count": 48,
     "metadata": {},
     "output_type": "execute_result"
    }
   ],
   "source": [
    "MultinomialNB().get_params()"
   ]
  },
  {
   "cell_type": "code",
   "execution_count": 49,
   "id": "1ee7ead9",
   "metadata": {},
   "outputs": [],
   "source": [
    "lr_params = {\n",
    "    # Trying different types of regularization\n",
    "    'lr__penalty':['l2','l1'],\n",
    "\n",
    "     # Trying different alphas of: 10, 1, 0.1 (C = 1/alpha)\n",
    "    'lr__C':[0.1, 1, 10],\n",
    "}"
   ]
  },
  {
   "cell_type": "code",
   "execution_count": 50,
   "id": "a5c275c7",
   "metadata": {},
   "outputs": [],
   "source": [
    "nb_params = {\n",
    "    'nb__fit_prior': [True, False],\n",
    "    'nb__alpha': [0.8, 0.9, 1.0],\n",
    "}"
   ]
  },
  {
   "cell_type": "code",
   "execution_count": 51,
   "id": "14e69e7a",
   "metadata": {},
   "outputs": [],
   "source": [
    "svc_params = {\n",
    "    'svc__C':[0.1, 1, 10],\n",
    "    'svc__gamma':[0.01, 0.1, 0.3], \n",
    "    'svc__kernel':['linear','rbf'],\n",
    "}"
   ]
  },
  {
   "cell_type": "markdown",
   "id": "f5036d8d",
   "metadata": {},
   "source": [
    "### Hyperparameter Tuning"
   ]
  },
  {
   "cell_type": "markdown",
   "id": "8ee3c532",
   "metadata": {},
   "source": [
    "#### Logistic Regression with CVEC"
   ]
  },
  {
   "cell_type": "code",
   "execution_count": 52,
   "id": "f52b11af",
   "metadata": {},
   "outputs": [
    {
     "name": "stdout",
     "output_type": "stream",
     "text": [
      "Fitting 5 folds for each of 216 candidates, totalling 1080 fits\n",
      "### BEST PARAMS ###\n"
     ]
    },
    {
     "data": {
      "text/plain": [
       "{'cvec__max_df': 0.2,\n",
       " 'cvec__max_features': None,\n",
       " 'cvec__min_df': 1,\n",
       " 'cvec__ngram_range': (1, 1),\n",
       " 'lr__C': 0.1,\n",
       " 'lr__penalty': 'l2'}"
      ]
     },
     "metadata": {},
     "output_type": "display_data"
    },
    {
     "name": "stdout",
     "output_type": "stream",
     "text": [
      "### METRICS ###\n"
     ]
    },
    {
     "data": {
      "text/plain": [
       "{'model': 'lr',\n",
       " 'vectorizer': 'cvec',\n",
       " 'train': 0.9717514124293786,\n",
       " 'test': 0.8671497584541062,\n",
       " 'roc': 0.840489229645856,\n",
       " 'precision': 0.9435483870967742,\n",
       " 'recall': 0.7090909090909091,\n",
       " 'f_score': 0.8096885813148789}"
      ]
     },
     "metadata": {},
     "output_type": "display_data"
    },
    {
     "name": "stdout",
     "output_type": "stream",
     "text": [
      "True Negatives: 242\n",
      "False Positives: 7\n",
      "False Negatives: 48\n",
      "True Positives: 117\n"
     ]
    }
   ],
   "source": [
    "# Always stop_words & never trigrams (best_results without model tuning)\n",
    "cvec_lr_gs = model_run('cvec', 'lr', vec_params=cvec_params, mod_params=lr_params, grid_search=True)"
   ]
  },
  {
   "cell_type": "markdown",
   "id": "7917d9a3",
   "metadata": {},
   "source": [
    "#### Logistic Regression with TVEC"
   ]
  },
  {
   "cell_type": "code",
   "execution_count": 53,
   "id": "2f60e10f",
   "metadata": {},
   "outputs": [
    {
     "name": "stdout",
     "output_type": "stream",
     "text": [
      "Fitting 5 folds for each of 108 candidates, totalling 540 fits\n",
      "### BEST PARAMS ###\n"
     ]
    },
    {
     "data": {
      "text/plain": [
       "{'lr__C': 10,\n",
       " 'lr__penalty': 'l2',\n",
       " 'tvec__max_df': 0.2,\n",
       " 'tvec__max_features': None,\n",
       " 'tvec__min_df': 4,\n",
       " 'tvec__ngram_range': (1, 2),\n",
       " 'tvec__stop_words': 'english'}"
      ]
     },
     "metadata": {},
     "output_type": "display_data"
    },
    {
     "name": "stdout",
     "output_type": "stream",
     "text": [
      "### METRICS ###\n"
     ]
    },
    {
     "data": {
      "text/plain": [
       "{'model': 'lr',\n",
       " 'vectorizer': 'tvec',\n",
       " 'train': 0.9975786924939467,\n",
       " 'test': 0.8840579710144928,\n",
       " 'roc': 0.8627236217597664,\n",
       " 'precision': 0.9398496240601504,\n",
       " 'recall': 0.7575757575757576,\n",
       " 'f_score': 0.8389261744966443}"
      ]
     },
     "metadata": {},
     "output_type": "display_data"
    },
    {
     "name": "stdout",
     "output_type": "stream",
     "text": [
      "True Negatives: 241\n",
      "False Positives: 8\n",
      "False Negatives: 40\n",
      "True Positives: 125\n"
     ]
    }
   ],
   "source": [
    "tvec_lr_gs = model_run('tvec', 'lr', vec_params=tvec_params, mod_params=lr_params, grid_search=True)"
   ]
  },
  {
   "cell_type": "markdown",
   "id": "d0641a7f",
   "metadata": {},
   "source": [
    "#### Multinomial Naive Bayes with CVEC"
   ]
  },
  {
   "cell_type": "code",
   "execution_count": 54,
   "id": "93a9637f",
   "metadata": {},
   "outputs": [
    {
     "name": "stdout",
     "output_type": "stream",
     "text": [
      "Fitting 5 folds for each of 216 candidates, totalling 1080 fits\n",
      "### BEST PARAMS ###\n"
     ]
    },
    {
     "data": {
      "text/plain": [
       "{'cvec__max_df': 0.2,\n",
       " 'cvec__max_features': None,\n",
       " 'cvec__min_df': 1,\n",
       " 'cvec__ngram_range': (1, 2),\n",
       " 'nb__alpha': 0.8,\n",
       " 'nb__fit_prior': True}"
      ]
     },
     "metadata": {},
     "output_type": "display_data"
    },
    {
     "name": "stdout",
     "output_type": "stream",
     "text": [
      "### METRICS ###\n"
     ]
    },
    {
     "data": {
      "text/plain": [
       "{'model': 'nb',\n",
       " 'vectorizer': 'cvec',\n",
       " 'train': 0.9975786924939467,\n",
       " 'test': 0.8913043478260869,\n",
       " 'roc': 0.8718145308506755,\n",
       " 'precision': 0.9411764705882353,\n",
       " 'recall': 0.7757575757575758,\n",
       " 'f_score': 0.8504983388704319}"
      ]
     },
     "metadata": {},
     "output_type": "display_data"
    },
    {
     "name": "stdout",
     "output_type": "stream",
     "text": [
      "True Negatives: 241\n",
      "False Positives: 8\n",
      "False Negatives: 37\n",
      "True Positives: 128\n"
     ]
    }
   ],
   "source": [
    "cvec_nb_gs = model_run('cvec', 'nb', vec_params=cvec_params, mod_params=nb_params, grid_search=True)"
   ]
  },
  {
   "cell_type": "markdown",
   "id": "c4a023a1",
   "metadata": {},
   "source": [
    "### Support Machine Classifier with TVEC"
   ]
  },
  {
   "cell_type": "code",
   "execution_count": 55,
   "id": "425ab346",
   "metadata": {},
   "outputs": [
    {
     "name": "stdout",
     "output_type": "stream",
     "text": [
      "Fitting 5 folds for each of 324 candidates, totalling 1620 fits\n",
      "### BEST PARAMS ###\n"
     ]
    },
    {
     "data": {
      "text/plain": [
       "{'svc__C': 1,\n",
       " 'svc__gamma': 0.01,\n",
       " 'svc__kernel': 'linear',\n",
       " 'tvec__max_df': 0.3,\n",
       " 'tvec__max_features': None,\n",
       " 'tvec__min_df': 4,\n",
       " 'tvec__ngram_range': (1, 1),\n",
       " 'tvec__stop_words': 'english'}"
      ]
     },
     "metadata": {},
     "output_type": "display_data"
    },
    {
     "name": "stdout",
     "output_type": "stream",
     "text": [
      "### METRICS ###\n"
     ]
    },
    {
     "data": {
      "text/plain": [
       "{'model': 'svc',\n",
       " 'vectorizer': 'tvec',\n",
       " 'train': 0.9846650524616626,\n",
       " 'test': 0.8792270531400966,\n",
       " 'roc': 0.8546184738955823,\n",
       " 'precision': 0.952755905511811,\n",
       " 'recall': 0.7333333333333333,\n",
       " 'f_score': 0.8287671232876712}"
      ]
     },
     "metadata": {},
     "output_type": "display_data"
    },
    {
     "name": "stdout",
     "output_type": "stream",
     "text": [
      "True Negatives: 243\n",
      "False Positives: 6\n",
      "False Negatives: 44\n",
      "True Positives: 121\n"
     ]
    }
   ],
   "source": [
    "tvec_svc_gs = model_run('tvec', 'svc', vec_params=tvec_params, mod_params=svc_params, grid_search=True)"
   ]
  },
  {
   "cell_type": "markdown",
   "id": "600932a0",
   "metadata": {},
   "source": [
    "### Final Model Selection"
   ]
  },
  {
   "cell_type": "code",
   "execution_count": 56,
   "id": "facf9ddc",
   "metadata": {},
   "outputs": [],
   "source": [
    "tuning_df = pd.DataFrame(tuning_list)"
   ]
  },
  {
   "cell_type": "code",
   "execution_count": 57,
   "id": "e0a83376",
   "metadata": {},
   "outputs": [
    {
     "data": {
      "text/html": [
       "<div>\n",
       "<style scoped>\n",
       "    .dataframe tbody tr th:only-of-type {\n",
       "        vertical-align: middle;\n",
       "    }\n",
       "\n",
       "    .dataframe tbody tr th {\n",
       "        vertical-align: top;\n",
       "    }\n",
       "\n",
       "    .dataframe thead th {\n",
       "        text-align: right;\n",
       "    }\n",
       "</style>\n",
       "<table border=\"1\" class=\"dataframe\">\n",
       "  <thead>\n",
       "    <tr style=\"text-align: right;\">\n",
       "      <th></th>\n",
       "      <th>model</th>\n",
       "      <th>vectorizer</th>\n",
       "      <th>train</th>\n",
       "      <th>test</th>\n",
       "      <th>roc</th>\n",
       "      <th>precision</th>\n",
       "      <th>recall</th>\n",
       "      <th>f_score</th>\n",
       "    </tr>\n",
       "  </thead>\n",
       "  <tbody>\n",
       "    <tr>\n",
       "      <th>0</th>\n",
       "      <td>nb</td>\n",
       "      <td>cvec</td>\n",
       "      <td>0.997579</td>\n",
       "      <td>0.891304</td>\n",
       "      <td>0.871815</td>\n",
       "      <td>0.941176</td>\n",
       "      <td>0.775758</td>\n",
       "      <td>0.850498</td>\n",
       "    </tr>\n",
       "    <tr>\n",
       "      <th>1</th>\n",
       "      <td>lr</td>\n",
       "      <td>tvec</td>\n",
       "      <td>0.997579</td>\n",
       "      <td>0.884058</td>\n",
       "      <td>0.862724</td>\n",
       "      <td>0.939850</td>\n",
       "      <td>0.757576</td>\n",
       "      <td>0.838926</td>\n",
       "    </tr>\n",
       "    <tr>\n",
       "      <th>2</th>\n",
       "      <td>svc</td>\n",
       "      <td>tvec</td>\n",
       "      <td>0.984665</td>\n",
       "      <td>0.879227</td>\n",
       "      <td>0.854618</td>\n",
       "      <td>0.952756</td>\n",
       "      <td>0.733333</td>\n",
       "      <td>0.828767</td>\n",
       "    </tr>\n",
       "    <tr>\n",
       "      <th>3</th>\n",
       "      <td>lr</td>\n",
       "      <td>cvec</td>\n",
       "      <td>0.971751</td>\n",
       "      <td>0.867150</td>\n",
       "      <td>0.840489</td>\n",
       "      <td>0.943548</td>\n",
       "      <td>0.709091</td>\n",
       "      <td>0.809689</td>\n",
       "    </tr>\n",
       "  </tbody>\n",
       "</table>\n",
       "</div>"
      ],
      "text/plain": [
       "  model vectorizer     train      test       roc  precision    recall  \\\n",
       "0    nb       cvec  0.997579  0.891304  0.871815   0.941176  0.775758   \n",
       "1    lr       tvec  0.997579  0.884058  0.862724   0.939850  0.757576   \n",
       "2   svc       tvec  0.984665  0.879227  0.854618   0.952756  0.733333   \n",
       "3    lr       cvec  0.971751  0.867150  0.840489   0.943548  0.709091   \n",
       "\n",
       "    f_score  \n",
       "0  0.850498  \n",
       "1  0.838926  \n",
       "2  0.828767  \n",
       "3  0.809689  "
      ]
     },
     "execution_count": 57,
     "metadata": {},
     "output_type": "execute_result"
    }
   ],
   "source": [
    "tuning_df.sort_values(by=['test', 'roc'], ascending=False).reset_index(drop=True)"
   ]
  },
  {
   "cell_type": "markdown",
   "id": "e8603371",
   "metadata": {},
   "source": [
    "From the table above, multinomial naive bayes with count vectorizer returned the highest R2 accuracy of 0.89 in gridsearch while 0.92 w/o gridsearch even on the default params. This is because grid search creates subsamples of the data repeatedly. That means the model is trained on 80% of x_train in each iteration and the results are the mean of predictions on the other 20%. GridSearch is used for selecting a combination of hyperparameters, performance estimation has not yet happened. The only comparison we could be making is between the parameter combinations within the CV itself.\n",
    "\n",
    "In other words, our model is able accurately predict about 89% of the test data based on our text features. The model also has the best AUC-ROC score of 0.85. We can interpret this metric as proof that that this model is the best at distinguishing between classes. The model does particularly very well in terms of recall (0.77), with only 37 false negatives (predicted r/meditaion but actually belong to r/Yoga posts which is potentially a loss of yoga enthusiast).\n",
    "\n",
    "In summary, our final model:\n",
    "\n",
    "* The model uses Cvec Vectorization with no max feature limit\n",
    "* includes only words or n-grams that appear in at least 1 post\n",
    "* ignores terms that that appear in more than 20% of posts\n",
    "* uses naive Bayes with Ridge regularization( alpha= 0.8)\n",
    "\n",
    "Our model is still overfitting quite a bit as indicated by the large gap between training and test scores, but this seems to be the limit to which we can push our model."
   ]
  },
  {
   "cell_type": "markdown",
   "id": "619411e6",
   "metadata": {},
   "source": [
    "### AUC-ROC Curve"
   ]
  },
  {
   "cell_type": "code",
   "execution_count": 58,
   "id": "2e6f02d8",
   "metadata": {},
   "outputs": [
    {
     "data": {
      "image/png": "[encoded data removed]",
      "text/plain": [
       "<Figure size 864x720 with 1 Axes>"
      ]
     },
     "metadata": {
      "needs_background": "light"
     },
     "output_type": "display_data"
    }
   ],
   "source": [
    "fig, ax = plt.subplots(1, 1, figsize=(12,10))\n",
    "plot_roc_curve(cvec_lr_gs, X_test, y_test, ax=ax, name='LogisticRegression-CVEC(GS)', color='lightgrey')\n",
    "plot_roc_curve(cvec_nb_gs, X_test, y_test, ax=ax, name='MultinomialNB-CVEC(GS)', color='blue')\n",
    "plot_roc_curve(tvec_svc_gs, X_test, y_test, ax=ax, name='SupportVectorClassifier-TVEC(GS)', color='lightgrey')\n",
    "plot_roc_curve(tvec_lr_gs, X_test, y_test, ax=ax, name='LogisticRegression-TVEC(GS)', color='lightgrey')\n",
    "plt.plot([0, 1], [0, 1], color='black', lw=2, linestyle='--', label='Random Guess')\n",
    "plt.legend();"
   ]
  },
  {
   "cell_type": "markdown",
   "id": "50e3d302",
   "metadata": {},
   "source": [
    "We can see that our chosen model, Naive Bayes with CVEC does pretty well with an ROC score of 0.95 which is closer to 1 as indicated by the AUC-ROC curve. The other classifiers all come pretty close in the range 0.95-0.96 but we will choose Naive bayes since its overall balance of accuracy,recall,roc,f1-score is the best."
   ]
  },
  {
   "cell_type": "markdown",
   "id": "2ef94683",
   "metadata": {},
   "source": [
    "### Model Insights"
   ]
  },
  {
   "cell_type": "markdown",
   "id": "f1cda012",
   "metadata": {},
   "source": [
    "Each post has a probability that a model assigns it to either r/Yoga or r/Meditation post. What we can infer from these models is the best probability that it would be classified and what are the top predictors that can help make better marketing decisions."
   ]
  },
  {
   "cell_type": "code",
   "execution_count": 59,
   "id": "7188ccde",
   "metadata": {},
   "outputs": [
    {
     "data": {
      "text/plain": [
       "{'cvec': CountVectorizer(max_df=0.2, ngram_range=(1, 2),\n",
       "                 stop_words=['yoga', 'meditation', 'ha', 'lol', 'wa']),\n",
       " 'nb': MultinomialNB(alpha=0.8)}"
      ]
     },
     "execution_count": 59,
     "metadata": {},
     "output_type": "execute_result"
    }
   ],
   "source": [
    "#accessng the dictionary in gridsearch\n",
    "cvec_nb_gs.best_estimator_.named_steps"
   ]
  },
  {
   "cell_type": "code",
   "execution_count": 60,
   "id": "334b5c81",
   "metadata": {},
   "outputs": [],
   "source": [
    "#convert the probabilities of each n-gram from yoga subreddit to a dataframe\n",
    "yoga_proba_df=pd.DataFrame(np.exp(cvec_nb_gs.best_estimator_.named_steps.nb.feature_log_prob_[1]),columns=['proba'])"
   ]
  },
  {
   "cell_type": "code",
   "execution_count": 61,
   "id": "a9f225d2",
   "metadata": {},
   "outputs": [
    {
     "data": {
      "text/plain": [
       "['00', '00 12', '00 43', '00 cet', '00 pm']"
      ]
     },
     "execution_count": 61,
     "metadata": {},
     "output_type": "execute_result"
    }
   ],
   "source": [
    "cvec_nb_gs.best_estimator_.steps[0][1].get_feature_names()[:5]"
   ]
  },
  {
   "cell_type": "code",
   "execution_count": 62,
   "id": "93ae6e60",
   "metadata": {},
   "outputs": [],
   "source": [
    "#Matching the proba to its n-gram\n",
    "yoga_proba_df['feature']=cvec_nb_gs.best_estimator_.steps[0][1].get_feature_names()"
   ]
  },
  {
   "cell_type": "code",
   "execution_count": 63,
   "id": "1eafb2cf",
   "metadata": {
    "scrolled": true
   },
   "outputs": [],
   "source": [
    "#sorting to only keep top 15 n-gram for r/yoga\n",
    "yoga_proba_df_15=yoga_proba_df.sort_values(by=['proba'],ascending=False)[:15]"
   ]
  },
  {
   "cell_type": "code",
   "execution_count": 64,
   "id": "a68867c6",
   "metadata": {},
   "outputs": [],
   "source": [
    "#convert the probabilities of each n-gram from meditation subreddit to a dataframe\n",
    "med_proba_df=pd.DataFrame(np.exp(cvec_nb_gs.best_estimator_.named_steps.nb.feature_log_prob_[0]),columns=['proba'])"
   ]
  },
  {
   "cell_type": "code",
   "execution_count": 65,
   "id": "ce25e555",
   "metadata": {},
   "outputs": [],
   "source": [
    "#Matching the proba to its n-gram\n",
    "med_proba_df['feature']=cvec_nb_gs.best_estimator_.steps[0][1].get_feature_names()"
   ]
  },
  {
   "cell_type": "code",
   "execution_count": 66,
   "id": "c7437127",
   "metadata": {},
   "outputs": [],
   "source": [
    "#sorting to only keep top 15 n-gram for r/yoga\n",
    "med_proba_df_15=med_proba_df.sort_values(by=['proba'],ascending=False)[:15]"
   ]
  },
  {
   "cell_type": "code",
   "execution_count": 67,
   "id": "6be7e1c8",
   "metadata": {},
   "outputs": [
    {
     "data": {
      "text/html": [
       "<div>\n",
       "<style scoped>\n",
       "    .dataframe tbody tr th:only-of-type {\n",
       "        vertical-align: middle;\n",
       "    }\n",
       "\n",
       "    .dataframe tbody tr th {\n",
       "        vertical-align: top;\n",
       "    }\n",
       "\n",
       "    .dataframe thead th {\n",
       "        text-align: right;\n",
       "    }\n",
       "</style>\n",
       "<table border=\"1\" class=\"dataframe\">\n",
       "  <thead>\n",
       "    <tr style=\"text-align: right;\">\n",
       "      <th></th>\n",
       "      <th>proba</th>\n",
       "      <th>feature</th>\n",
       "    </tr>\n",
       "  </thead>\n",
       "  <tbody>\n",
       "    <tr>\n",
       "      <th>54551</th>\n",
       "      <td>0.002969</td>\n",
       "      <td>thought</td>\n",
       "    </tr>\n",
       "    <tr>\n",
       "      <th>33688</th>\n",
       "      <td>0.002356</td>\n",
       "      <td>mind</td>\n",
       "    </tr>\n",
       "    <tr>\n",
       "      <th>33040</th>\n",
       "      <td>0.002196</td>\n",
       "      <td>meditating</td>\n",
       "    </tr>\n",
       "    <tr>\n",
       "      <th>53339</th>\n",
       "      <td>0.002012</td>\n",
       "      <td>the</td>\n",
       "    </tr>\n",
       "    <tr>\n",
       "      <th>29815</th>\n",
       "      <td>0.001752</td>\n",
       "      <td>life</td>\n",
       "    </tr>\n",
       "    <tr>\n",
       "      <th>16779</th>\n",
       "      <td>0.001690</td>\n",
       "      <td>experience</td>\n",
       "    </tr>\n",
       "    <tr>\n",
       "      <th>53855</th>\n",
       "      <td>0.001614</td>\n",
       "      <td>thing</td>\n",
       "    </tr>\n",
       "    <tr>\n",
       "      <th>58875</th>\n",
       "      <td>0.001468</td>\n",
       "      <td>want</td>\n",
       "    </tr>\n",
       "    <tr>\n",
       "      <th>32879</th>\n",
       "      <td>0.001430</td>\n",
       "      <td>meditate</td>\n",
       "    </tr>\n",
       "    <tr>\n",
       "      <th>54100</th>\n",
       "      <td>0.001376</td>\n",
       "      <td>think</td>\n",
       "    </tr>\n",
       "    <tr>\n",
       "      <th>43243</th>\n",
       "      <td>0.001369</td>\n",
       "      <td>really</td>\n",
       "    </tr>\n",
       "    <tr>\n",
       "      <th>23673</th>\n",
       "      <td>0.001346</td>\n",
       "      <td>help</td>\n",
       "    </tr>\n",
       "    <tr>\n",
       "      <th>18415</th>\n",
       "      <td>0.001331</td>\n",
       "      <td>feeling</td>\n",
       "    </tr>\n",
       "    <tr>\n",
       "      <th>38724</th>\n",
       "      <td>0.001262</td>\n",
       "      <td>people</td>\n",
       "    </tr>\n",
       "    <tr>\n",
       "      <th>31843</th>\n",
       "      <td>0.001246</td>\n",
       "      <td>make</td>\n",
       "    </tr>\n",
       "  </tbody>\n",
       "</table>\n",
       "</div>"
      ],
      "text/plain": [
       "          proba     feature\n",
       "54551  0.002969     thought\n",
       "33688  0.002356        mind\n",
       "33040  0.002196  meditating\n",
       "53339  0.002012         the\n",
       "29815  0.001752        life\n",
       "16779  0.001690  experience\n",
       "53855  0.001614       thing\n",
       "58875  0.001468        want\n",
       "32879  0.001430    meditate\n",
       "54100  0.001376       think\n",
       "43243  0.001369      really\n",
       "23673  0.001346        help\n",
       "18415  0.001331     feeling\n",
       "38724  0.001262      people\n",
       "31843  0.001246        make"
      ]
     },
     "execution_count": 67,
     "metadata": {},
     "output_type": "execute_result"
    }
   ],
   "source": [
    "med_proba_df_15"
   ]
  },
  {
   "cell_type": "code",
   "execution_count": 68,
   "id": "4e33154b",
   "metadata": {},
   "outputs": [
    {
     "data": {
      "image/png": "[encoded data removed]",
      "text/plain": [
       "<Figure size 720x720 with 1 Axes>"
      ]
     },
     "metadata": {
      "needs_background": "light"
     },
     "output_type": "display_data"
    }
   ],
   "source": [
    "plt.figure(figsize=(10,10))\n",
    "sns.barplot(data=yoga_proba_df_15, x=yoga_proba_df_15['proba'], y=yoga_proba_df_15['feature'], palette='Reds_r')\n",
    "plt.ylabel('')\n",
    "plt.title('Top 15 Ngrams Correlated with r/Yoga', fontsize=20);"
   ]
  },
  {
   "cell_type": "code",
   "execution_count": 69,
   "id": "4387bbd4",
   "metadata": {},
   "outputs": [
    {
     "data": {
      "image/png": "[encoded data removed]",
      "text/plain": [
       "<Figure size 720x720 with 1 Axes>"
      ]
     },
     "metadata": {
      "needs_background": "light"
     },
     "output_type": "display_data"
    }
   ],
   "source": [
    "plt.figure(figsize=(10,10))\n",
    "sns.barplot(data=med_proba_df_15, x=med_proba_df_15['proba'], y=med_proba_df_15['feature'], palette='Blues_r')\n",
    "plt.ylabel('')\n",
    "plt.title('Top 15 Ngrams Correlated with r/Meditation', fontsize=20);"
   ]
  },
  {
   "cell_type": "markdown",
   "id": "5dfdd834",
   "metadata": {},
   "source": [
    "From the yoga top words barplot, we can infer that r/yoga posts generally focus on some key words such as pose, class, mat,body and help.\n",
    "This could mean that yoga enthusiast are keen to learn different poses. We could also see that having class or mat package promotions can really help bring in users to join yoga.\n",
    "We could also market in a way that yoga helps improve body posture and wellness.\n",
    "\n",
    "From the meditation top words barplot, there are a few striking words such as thought, mind, experience and feeling.\n",
    "This could be incorporated to the marketing in a sense that yoga can also helps improve calmness and mind refreshing experience."
   ]
  },
  {
   "cell_type": "markdown",
   "id": "f7f29676",
   "metadata": {},
   "source": [
    "#### Finding overlapping interest among yoga and meditation"
   ]
  },
  {
   "cell_type": "code",
   "execution_count": 70,
   "id": "76f84321",
   "metadata": {},
   "outputs": [],
   "source": [
    "yoga_topwords_30=yoga_proba_df.sort_values(by=['proba'],ascending=False)[:30]['feature'].values.tolist()"
   ]
  },
  {
   "cell_type": "code",
   "execution_count": 71,
   "id": "fe6fc686",
   "metadata": {},
   "outputs": [],
   "source": [
    "med_topwords_30=med_proba_df.sort_values(by=['proba'],ascending=False)[:30]['feature'].values.tolist()"
   ]
  },
  {
   "cell_type": "code",
   "execution_count": 72,
   "id": "22ea6940",
   "metadata": {},
   "outputs": [
    {
     "data": {
      "text/plain": [
       "['pose',\n",
       " 'class',\n",
       " 'mat',\n",
       " 'year',\n",
       " 'want',\n",
       " 'really',\n",
       " 'body',\n",
       " 'teacher',\n",
       " 'help',\n",
       " 'thing',\n",
       " 'week',\n",
       " 'started',\n",
       " 'way',\n",
       " 'the',\n",
       " 'good',\n",
       " 'leg',\n",
       " 'studio',\n",
       " 'my',\n",
       " 'pain',\n",
       " 'thanks',\n",
       " 'video',\n",
       " 'lot',\n",
       " 'dog',\n",
       " 'what',\n",
       " 'make',\n",
       " 'need',\n",
       " 'love',\n",
       " 'new',\n",
       " 'month',\n",
       " 'work']"
      ]
     },
     "execution_count": 72,
     "metadata": {},
     "output_type": "execute_result"
    }
   ],
   "source": [
    "yoga_topwords_30"
   ]
  },
  {
   "cell_type": "code",
   "execution_count": 73,
   "id": "c0457594",
   "metadata": {},
   "outputs": [
    {
     "data": {
      "text/plain": [
       "['thought',\n",
       " 'mind',\n",
       " 'meditating',\n",
       " 'the',\n",
       " 'life',\n",
       " 'experience',\n",
       " 'thing',\n",
       " 'want',\n",
       " 'meditate',\n",
       " 'think',\n",
       " 'really',\n",
       " 'help',\n",
       " 'feeling',\n",
       " 'people',\n",
       " 'make',\n",
       " 'year',\n",
       " 'breath',\n",
       " 'way',\n",
       " 'body',\n",
       " 'focus',\n",
       " 'started',\n",
       " 'what',\n",
       " 'but',\n",
       " 'you',\n",
       " 'anxiety',\n",
       " 'this',\n",
       " 'breathing',\n",
       " 'start',\n",
       " 'need',\n",
       " 'felt']"
      ]
     },
     "execution_count": 73,
     "metadata": {},
     "output_type": "execute_result"
    }
   ],
   "source": [
    "med_topwords_30"
   ]
  },
  {
   "cell_type": "code",
   "execution_count": 74,
   "id": "51772de9",
   "metadata": {},
   "outputs": [
    {
     "name": "stdout",
     "output_type": "stream",
     "text": [
      "Requirement already satisfied: matplotlib_venn in c:\\users\\moonm\\anaconda3\\lib\\site-packages (0.11.6)\n",
      "Requirement already satisfied: scipy in c:\\users\\moonm\\anaconda3\\lib\\site-packages (from matplotlib_venn) (1.6.2)\n",
      "Requirement already satisfied: numpy in c:\\users\\moonm\\anaconda3\\lib\\site-packages (from matplotlib_venn) (1.20.1)\n",
      "Requirement already satisfied: matplotlib in c:\\users\\moonm\\anaconda3\\lib\\site-packages (from matplotlib_venn) (3.3.4)\n",
      "Requirement already satisfied: pyparsing!=2.0.4,!=2.1.2,!=2.1.6,>=2.0.3 in c:\\users\\moonm\\anaconda3\\lib\\site-packages (from matplotlib->matplotlib_venn) (2.4.7)\n",
      "Requirement already satisfied: python-dateutil>=2.1 in c:\\users\\moonm\\anaconda3\\lib\\site-packages (from matplotlib->matplotlib_venn) (2.8.1)\n",
      "Requirement already satisfied: kiwisolver>=1.0.1 in c:\\users\\moonm\\anaconda3\\lib\\site-packages (from matplotlib->matplotlib_venn) (1.3.1)\n",
      "Requirement already satisfied: cycler>=0.10 in c:\\users\\moonm\\anaconda3\\lib\\site-packages (from matplotlib->matplotlib_venn) (0.10.0)\n",
      "Requirement already satisfied: pillow>=6.2.0 in c:\\users\\moonm\\anaconda3\\lib\\site-packages (from matplotlib->matplotlib_venn) (8.2.0)\n",
      "Requirement already satisfied: six in c:\\users\\moonm\\anaconda3\\lib\\site-packages (from cycler>=0.10->matplotlib->matplotlib_venn) (1.15.0)\n",
      "Note: you may need to restart the kernel to use updated packages.\n"
     ]
    }
   ],
   "source": [
    "pip install matplotlib_venn"
   ]
  },
  {
   "cell_type": "code",
   "execution_count": 75,
   "id": "595482a4",
   "metadata": {},
   "outputs": [],
   "source": [
    "import pandas as pd\n",
    "from matplotlib import pyplot as plt\n",
    "from matplotlib_venn import venn2\n",
    "from matplotlib_venn import venn3"
   ]
  },
  {
   "cell_type": "code",
   "execution_count": 76,
   "id": "c4e3013c",
   "metadata": {},
   "outputs": [
    {
     "data": {
      "image/png": "[encoded data removed]",
      "text/plain": [
       "<Figure size 432x288 with 1 Axes>"
      ]
     },
     "metadata": {},
     "output_type": "display_data"
    }
   ],
   "source": [
    "v=venn2([set(yoga_topwords_30), \n",
    "       set(med_topwords_30)],\n",
    "       set_labels=('yoga', 'med')\n",
    "     );"
   ]
  },
  {
   "cell_type": "markdown",
   "id": "4804fb08",
   "metadata": {},
   "source": [
    "Interesting find is that we have 12 common interest among the 2 subreddits."
   ]
  },
  {
   "cell_type": "markdown",
   "id": "ca0f492c",
   "metadata": {},
   "source": [
    "From the venn diagram we can get a better insight on how to market to different individuals\n",
    "1. existing yoga enthusiast\n",
    "2. yoga and meditation enthusiast which share the same interests\n",
    "3. meditation enthusiast"
   ]
  },
  {
   "cell_type": "code",
   "execution_count": 77,
   "id": "250611c7",
   "metadata": {},
   "outputs": [
    {
     "data": {
      "text/plain": [
       "{'class',\n",
       " 'dog',\n",
       " 'good',\n",
       " 'leg',\n",
       " 'lot',\n",
       " 'love',\n",
       " 'mat',\n",
       " 'month',\n",
       " 'my',\n",
       " 'new',\n",
       " 'pain',\n",
       " 'pose',\n",
       " 'studio',\n",
       " 'teacher',\n",
       " 'thanks',\n",
       " 'video',\n",
       " 'week',\n",
       " 'work'}"
      ]
     },
     "execution_count": 77,
     "metadata": {},
     "output_type": "execute_result"
    }
   ],
   "source": [
    "#1. only yoga set has these words to address existing yoga enthusiast\n",
    "set(yoga_topwords_30).difference(set(med_topwords_30))"
   ]
  },
  {
   "cell_type": "markdown",
   "id": "0b87dddd",
   "metadata": {},
   "source": [
    "For the 1st group its no surpise that the top 30 words have covered on how to market it. So we will look into the 2nd group by the words in the r/yoga and r/meditation intersection."
   ]
  },
  {
   "cell_type": "code",
   "execution_count": 78,
   "id": "d954ba4f",
   "metadata": {},
   "outputs": [
    {
     "data": {
      "text/plain": [
       "{'body',\n",
       " 'help',\n",
       " 'make',\n",
       " 'need',\n",
       " 'really',\n",
       " 'started',\n",
       " 'the',\n",
       " 'thing',\n",
       " 'want',\n",
       " 'way',\n",
       " 'what',\n",
       " 'year'}"
      ]
     },
     "execution_count": 78,
     "metadata": {},
     "output_type": "execute_result"
    }
   ],
   "source": [
    "#2. intersection or common words between yoga and meditation for both yoga and meditation groups.\n",
    "set(yoga_topwords_30).intersection(set(med_topwords_30))"
   ]
  },
  {
   "cell_type": "markdown",
   "id": "7c8e01a1",
   "metadata": {},
   "source": [
    "As we can see, to improve on the attraction for both yoga and meditation enthusiast are mainly related to body and wellness"
   ]
  },
  {
   "cell_type": "code",
   "execution_count": 79,
   "id": "1e30563c",
   "metadata": {},
   "outputs": [
    {
     "data": {
      "text/plain": [
       "{'anxiety',\n",
       " 'breath',\n",
       " 'breathing',\n",
       " 'but',\n",
       " 'experience',\n",
       " 'feeling',\n",
       " 'felt',\n",
       " 'focus',\n",
       " 'life',\n",
       " 'meditate',\n",
       " 'meditating',\n",
       " 'mind',\n",
       " 'people',\n",
       " 'start',\n",
       " 'think',\n",
       " 'this',\n",
       " 'thought',\n",
       " 'you'}"
      ]
     },
     "execution_count": 79,
     "metadata": {},
     "output_type": "execute_result"
    }
   ],
   "source": [
    "#3. only med set has these words\n",
    "set(med_topwords_30).difference(set(yoga_topwords_30))"
   ]
  },
  {
   "cell_type": "markdown",
   "id": "6e806a63",
   "metadata": {},
   "source": [
    "I think that meditation subreddit top words focuses mainly on anxiety, breathing,feeling,focus and life. This means that meditation has something that yoga lacks of which is it helps anxiety and breathing but this can be incorporated in the marketing because yoga does help regulate breathing during the exercise and it can be good for reducing anxiety."
   ]
  },
  {
   "cell_type": "markdown",
   "id": "9d233ffa",
   "metadata": {},
   "source": [
    "### Model Limitations"
   ]
  },
  {
   "cell_type": "markdown",
   "id": "1accb2b2",
   "metadata": {},
   "source": [
    "As a caveat, our model does have some limitations when it comes to predicting r/yoga posts. Mentioning very normal words like life can throw off our model. To further improve model accuracy, we'd ideally need to train our model to recognize slang words for yoga and meditation which might not be picked up by the model."
   ]
  },
  {
   "cell_type": "markdown",
   "id": "aabe983c",
   "metadata": {},
   "source": [
    "### Conclusion & Recommendations"
   ]
  },
  {
   "cell_type": "markdown",
   "id": "dc18365f",
   "metadata": {},
   "source": [
    "In conclusion, the model we chosed to better classify the posts for r/yoga and r/meditation is the naive bayes model with count vectorizer due to its higher r2 score, recall and f-1 score as a whole.\n",
    "\n",
    "Besides maximizing the funds and manpower to classify posts from two different subreddits based on their title and selftext, there are a number of other possible applications for this model.\n",
    "\n",
    "By looking at the probabilities associated with each post, marketing teams can better appeal to the potential clients when they are promoting to the yoga or meditation users. In fact, this can also be useful as words can be trending with time but withi this model we can accurately ride the trend with words that have high probability of being classified as yoga.\n",
    "\n",
    "The sentiment analysis we implemented can also determine the mood of the potential clients which either is a positive attraction to yoga or vice versa.\n",
    "\n",
    "The recommendation we would propose at this point of time for the marketing team is that we can focus on are as follows:\n",
    "1. Provide free mat or foam rollers to entice the clients to join yoga especially for those that are already interested in yoga.\n",
    "2. Promote body fitness and wellness for those who are both yoga and meditation enthusiast.\n",
    "3. Transition the business in a way that also appeal to meditation enthusiast whereby yoga also focuses on breathing regulation and helps to reduce anxiety. The community and people from yoga can also help newcomers settle in easier."
   ]
  },
  {
   "cell_type": "markdown",
   "id": "be30255d",
   "metadata": {},
   "source": [
    "### Reference"
   ]
  },
  {
   "cell_type": "markdown",
   "id": "c220eb13",
   "metadata": {},
   "source": [
    "1. https://towardsdatascience.com/gradient-boosting-classification-explained-through-python-60cc980eeb3d\n",
    "2. https://medium.com/analytics-vidhya/visualizing-phrase-prominence-and-category-association-with-scattertext-and-pytextrank-f7a5f036d4d2\n",
    "3. https://github.com/LoLei/redditcleaner"
   ]
  },
  {
   "cell_type": "code",
   "execution_count": null,
   "id": "94f49bb3",
   "metadata": {},
   "outputs": [],
   "source": []
  }
 ],
 "metadata": {
  "kernelspec": {
   "display_name": "Python 3",
   "language": "python",
   "name": "python3"
  },
  "language_info": {
   "codemirror_mode": {
    "name": "ipython",
    "version": 3
   },
   "file_extension": ".py",
   "mimetype": "text/x-python",
   "name": "python",
   "nbconvert_exporter": "python",
   "pygments_lexer": "ipython3",
   "version": "3.8.8"
  }
 },
 "nbformat": 4,
 "nbformat_minor": 5
}
